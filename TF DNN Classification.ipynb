{
 "cells": [
  {
   "cell_type": "markdown",
   "metadata": {},
   "source": [
    "# DNN Classification with Tensorflow"
   ]
  },
  {
   "cell_type": "markdown",
   "metadata": {},
   "source": [
    "## Prepare the data"
   ]
  },
  {
   "cell_type": "markdown",
   "metadata": {},
   "source": [
    "### Import libraries and load the dataset"
   ]
  },
  {
   "cell_type": "code",
   "execution_count": 1,
   "metadata": {
    "collapsed": true
   },
   "outputs": [],
   "source": [
    "# import the libraries we will use\n",
    "import pandas as pd\n",
    "import numpy as np\n",
    "import itertools\n",
    "import matplotlib.pyplot as plt\n",
    "%matplotlib inline"
   ]
  },
  {
   "cell_type": "code",
   "execution_count": 2,
   "metadata": {
    "collapsed": true
   },
   "outputs": [],
   "source": [
    "# read a CSV file, french style\n",
    "df = pd.read_csv('Churn.csv',sep=',')"
   ]
  },
  {
   "cell_type": "code",
   "execution_count": 3,
   "metadata": {},
   "outputs": [
    {
     "data": {
      "text/html": [
       "<div>\n",
       "<style>\n",
       "    .dataframe thead tr:only-child th {\n",
       "        text-align: right;\n",
       "    }\n",
       "\n",
       "    .dataframe thead th {\n",
       "        text-align: left;\n",
       "    }\n",
       "\n",
       "    .dataframe tbody tr th {\n",
       "        vertical-align: top;\n",
       "    }\n",
       "</style>\n",
       "<table border=\"1\" class=\"dataframe\">\n",
       "  <thead>\n",
       "    <tr style=\"text-align: right;\">\n",
       "      <th></th>\n",
       "      <th>RowNumber</th>\n",
       "      <th>CustomerId</th>\n",
       "      <th>Surname</th>\n",
       "      <th>CreditScore</th>\n",
       "      <th>Geography</th>\n",
       "      <th>Gender</th>\n",
       "      <th>Age</th>\n",
       "      <th>Tenure</th>\n",
       "      <th>Balance</th>\n",
       "      <th>NumOfProducts</th>\n",
       "      <th>HasCrCard</th>\n",
       "      <th>IsActiveMember</th>\n",
       "      <th>EstimatedSalary</th>\n",
       "      <th>Exited</th>\n",
       "    </tr>\n",
       "  </thead>\n",
       "  <tbody>\n",
       "    <tr>\n",
       "      <th>0</th>\n",
       "      <td>1</td>\n",
       "      <td>15634602</td>\n",
       "      <td>Hargrave</td>\n",
       "      <td>619</td>\n",
       "      <td>France</td>\n",
       "      <td>Female</td>\n",
       "      <td>42</td>\n",
       "      <td>2</td>\n",
       "      <td>0.00</td>\n",
       "      <td>1</td>\n",
       "      <td>1</td>\n",
       "      <td>1</td>\n",
       "      <td>101348.88</td>\n",
       "      <td>1</td>\n",
       "    </tr>\n",
       "    <tr>\n",
       "      <th>1</th>\n",
       "      <td>2</td>\n",
       "      <td>15647311</td>\n",
       "      <td>Hill</td>\n",
       "      <td>608</td>\n",
       "      <td>Spain</td>\n",
       "      <td>Female</td>\n",
       "      <td>41</td>\n",
       "      <td>1</td>\n",
       "      <td>83807.86</td>\n",
       "      <td>1</td>\n",
       "      <td>0</td>\n",
       "      <td>1</td>\n",
       "      <td>112542.58</td>\n",
       "      <td>0</td>\n",
       "    </tr>\n",
       "    <tr>\n",
       "      <th>2</th>\n",
       "      <td>3</td>\n",
       "      <td>15619304</td>\n",
       "      <td>Onio</td>\n",
       "      <td>502</td>\n",
       "      <td>France</td>\n",
       "      <td>Female</td>\n",
       "      <td>42</td>\n",
       "      <td>8</td>\n",
       "      <td>159660.80</td>\n",
       "      <td>3</td>\n",
       "      <td>1</td>\n",
       "      <td>0</td>\n",
       "      <td>113931.57</td>\n",
       "      <td>1</td>\n",
       "    </tr>\n",
       "    <tr>\n",
       "      <th>3</th>\n",
       "      <td>4</td>\n",
       "      <td>15701354</td>\n",
       "      <td>Boni</td>\n",
       "      <td>699</td>\n",
       "      <td>France</td>\n",
       "      <td>Female</td>\n",
       "      <td>39</td>\n",
       "      <td>1</td>\n",
       "      <td>0.00</td>\n",
       "      <td>2</td>\n",
       "      <td>0</td>\n",
       "      <td>0</td>\n",
       "      <td>93826.63</td>\n",
       "      <td>0</td>\n",
       "    </tr>\n",
       "    <tr>\n",
       "      <th>4</th>\n",
       "      <td>5</td>\n",
       "      <td>15737888</td>\n",
       "      <td>Mitchell</td>\n",
       "      <td>850</td>\n",
       "      <td>Spain</td>\n",
       "      <td>Female</td>\n",
       "      <td>43</td>\n",
       "      <td>2</td>\n",
       "      <td>125510.82</td>\n",
       "      <td>1</td>\n",
       "      <td>1</td>\n",
       "      <td>1</td>\n",
       "      <td>79084.10</td>\n",
       "      <td>0</td>\n",
       "    </tr>\n",
       "  </tbody>\n",
       "</table>\n",
       "</div>"
      ],
      "text/plain": [
       "   RowNumber  CustomerId   Surname  CreditScore Geography  Gender  Age  \\\n",
       "0          1    15634602  Hargrave          619    France  Female   42   \n",
       "1          2    15647311      Hill          608     Spain  Female   41   \n",
       "2          3    15619304      Onio          502    France  Female   42   \n",
       "3          4    15701354      Boni          699    France  Female   39   \n",
       "4          5    15737888  Mitchell          850     Spain  Female   43   \n",
       "\n",
       "   Tenure    Balance  NumOfProducts  HasCrCard  IsActiveMember  \\\n",
       "0       2       0.00              1          1               1   \n",
       "1       1   83807.86              1          0               1   \n",
       "2       8  159660.80              3          1               0   \n",
       "3       1       0.00              2          0               0   \n",
       "4       2  125510.82              1          1               1   \n",
       "\n",
       "   EstimatedSalary  Exited  \n",
       "0        101348.88       1  \n",
       "1        112542.58       0  \n",
       "2        113931.57       1  \n",
       "3         93826.63       0  \n",
       "4         79084.10       0  "
      ]
     },
     "execution_count": 3,
     "metadata": {},
     "output_type": "execute_result"
    }
   ],
   "source": [
    "df.head()"
   ]
  },
  {
   "cell_type": "markdown",
   "metadata": {},
   "source": [
    "### Split into training & testing data"
   ]
  },
  {
   "cell_type": "code",
   "execution_count": 4,
   "metadata": {
    "collapsed": true
   },
   "outputs": [],
   "source": [
    "from sklearn.model_selection import train_test_split"
   ]
  },
  {
   "cell_type": "code",
   "execution_count": 5,
   "metadata": {
    "collapsed": true
   },
   "outputs": [],
   "source": [
    "# Separete the input data and the value to predict (the 'Exited' column).\n",
    "# By convention: X is the input data and Y is the value to predict.\n",
    "x_data = df.drop(['Exited'],axis=1)\n",
    "y_val = df['Exited']"
   ]
  },
  {
   "cell_type": "code",
   "execution_count": 6,
   "metadata": {
    "collapsed": true
   },
   "outputs": [],
   "source": [
    "# Separate the dataset in two parts:\n",
    "# 70% of the data will be used for training the model\n",
    "# 30% to test it\n",
    "X_train, X_test, y_train, y_true = train_test_split(x_data,y_val,test_size=0.3,random_state=101)"
   ]
  },
  {
   "cell_type": "code",
   "execution_count": 7,
   "metadata": {},
   "outputs": [],
   "source": [
    "# X_train.describe()"
   ]
  },
  {
   "cell_type": "markdown",
   "metadata": {},
   "source": [
    "### Scale the data"
   ]
  },
  {
   "cell_type": "code",
   "execution_count": 8,
   "metadata": {
    "collapsed": true
   },
   "outputs": [],
   "source": [
    "cols_to_scale=['CreditScore','Tenure','Balance','NumOfProducts','EstimatedSalary']"
   ]
  },
  {
   "cell_type": "code",
   "execution_count": 9,
   "metadata": {
    "collapsed": true
   },
   "outputs": [],
   "source": [
    "# Get around a bug in Sklearn / Pandas integration\n",
    "# see https://stackoverflow.com/questions/45090639/pandas-shows-settingwithcopywarning-after-train-test-split\n",
    "X_train.is_copy=None\n",
    "X_test.is_copy=None"
   ]
  },
  {
   "cell_type": "code",
   "execution_count": 10,
   "metadata": {},
   "outputs": [],
   "source": [
    "# X_train.head()"
   ]
  },
  {
   "cell_type": "code",
   "execution_count": 11,
   "metadata": {},
   "outputs": [],
   "source": [
    "# apply min-max normalisation to specified columns\n",
    "for col in cols_to_scale:\n",
    "    xmin=X_train[col].min()\n",
    "    dx=X_train[col].max()-xmin\n",
    "    X_train[[col]] = X_train[[col]].apply(lambda x: ((x - xmin) / dx))\n",
    "    X_test[[col]] = X_test[[col]].apply(lambda x: ((x - xmin) / dx))"
   ]
  },
  {
   "cell_type": "code",
   "execution_count": 12,
   "metadata": {},
   "outputs": [
    {
     "data": {
      "text/html": [
       "<div>\n",
       "<style>\n",
       "    .dataframe thead tr:only-child th {\n",
       "        text-align: right;\n",
       "    }\n",
       "\n",
       "    .dataframe thead th {\n",
       "        text-align: left;\n",
       "    }\n",
       "\n",
       "    .dataframe tbody tr th {\n",
       "        vertical-align: top;\n",
       "    }\n",
       "</style>\n",
       "<table border=\"1\" class=\"dataframe\">\n",
       "  <thead>\n",
       "    <tr style=\"text-align: right;\">\n",
       "      <th></th>\n",
       "      <th>RowNumber</th>\n",
       "      <th>CustomerId</th>\n",
       "      <th>Surname</th>\n",
       "      <th>CreditScore</th>\n",
       "      <th>Geography</th>\n",
       "      <th>Gender</th>\n",
       "      <th>Age</th>\n",
       "      <th>Tenure</th>\n",
       "      <th>Balance</th>\n",
       "      <th>NumOfProducts</th>\n",
       "      <th>HasCrCard</th>\n",
       "      <th>IsActiveMember</th>\n",
       "      <th>EstimatedSalary</th>\n",
       "    </tr>\n",
       "  </thead>\n",
       "  <tbody>\n",
       "    <tr>\n",
       "      <th>803</th>\n",
       "      <td>804</td>\n",
       "      <td>15712825</td>\n",
       "      <td>Howells</td>\n",
       "      <td>0.322</td>\n",
       "      <td>Spain</td>\n",
       "      <td>Female</td>\n",
       "      <td>29</td>\n",
       "      <td>0.9</td>\n",
       "      <td>0.000000</td>\n",
       "      <td>0.333333</td>\n",
       "      <td>0</td>\n",
       "      <td>1</td>\n",
       "      <td>0.703471</td>\n",
       "    </tr>\n",
       "    <tr>\n",
       "      <th>1387</th>\n",
       "      <td>1388</td>\n",
       "      <td>15674526</td>\n",
       "      <td>Byrne</td>\n",
       "      <td>0.750</td>\n",
       "      <td>France</td>\n",
       "      <td>Male</td>\n",
       "      <td>66</td>\n",
       "      <td>0.4</td>\n",
       "      <td>0.344601</td>\n",
       "      <td>0.000000</td>\n",
       "      <td>1</td>\n",
       "      <td>1</td>\n",
       "      <td>0.707469</td>\n",
       "    </tr>\n",
       "    <tr>\n",
       "      <th>921</th>\n",
       "      <td>922</td>\n",
       "      <td>15743411</td>\n",
       "      <td>Chiawuotu</td>\n",
       "      <td>0.518</td>\n",
       "      <td>Spain</td>\n",
       "      <td>Male</td>\n",
       "      <td>61</td>\n",
       "      <td>0.1</td>\n",
       "      <td>0.000000</td>\n",
       "      <td>0.000000</td>\n",
       "      <td>1</td>\n",
       "      <td>0</td>\n",
       "      <td>0.112204</td>\n",
       "    </tr>\n",
       "    <tr>\n",
       "      <th>5917</th>\n",
       "      <td>5918</td>\n",
       "      <td>15812184</td>\n",
       "      <td>Rose</td>\n",
       "      <td>0.648</td>\n",
       "      <td>France</td>\n",
       "      <td>Female</td>\n",
       "      <td>31</td>\n",
       "      <td>0.1</td>\n",
       "      <td>0.000000</td>\n",
       "      <td>0.000000</td>\n",
       "      <td>1</td>\n",
       "      <td>0</td>\n",
       "      <td>0.644844</td>\n",
       "    </tr>\n",
       "    <tr>\n",
       "      <th>9610</th>\n",
       "      <td>9611</td>\n",
       "      <td>15812534</td>\n",
       "      <td>Chiemenam</td>\n",
       "      <td>0.210</td>\n",
       "      <td>France</td>\n",
       "      <td>Male</td>\n",
       "      <td>40</td>\n",
       "      <td>0.1</td>\n",
       "      <td>0.000000</td>\n",
       "      <td>0.666667</td>\n",
       "      <td>0</td>\n",
       "      <td>1</td>\n",
       "      <td>0.649952</td>\n",
       "    </tr>\n",
       "  </tbody>\n",
       "</table>\n",
       "</div>"
      ],
      "text/plain": [
       "      RowNumber  CustomerId    Surname  CreditScore Geography  Gender  Age  \\\n",
       "803         804    15712825    Howells        0.322     Spain  Female   29   \n",
       "1387       1388    15674526      Byrne        0.750    France    Male   66   \n",
       "921         922    15743411  Chiawuotu        0.518     Spain    Male   61   \n",
       "5917       5918    15812184       Rose        0.648    France  Female   31   \n",
       "9610       9611    15812534  Chiemenam        0.210    France    Male   40   \n",
       "\n",
       "      Tenure   Balance  NumOfProducts  HasCrCard  IsActiveMember  \\\n",
       "803      0.9  0.000000       0.333333          0               1   \n",
       "1387     0.4  0.344601       0.000000          1               1   \n",
       "921      0.1  0.000000       0.000000          1               0   \n",
       "5917     0.1  0.000000       0.000000          1               0   \n",
       "9610     0.1  0.000000       0.666667          0               1   \n",
       "\n",
       "      EstimatedSalary  \n",
       "803          0.703471  \n",
       "1387         0.707469  \n",
       "921          0.112204  \n",
       "5917         0.644844  \n",
       "9610         0.649952  "
      ]
     },
     "execution_count": 12,
     "metadata": {},
     "output_type": "execute_result"
    }
   ],
   "source": [
    "X_train.head()"
   ]
  },
  {
   "cell_type": "code",
   "execution_count": 13,
   "metadata": {},
   "outputs": [],
   "source": [
    "# X_train.describe()"
   ]
  },
  {
   "cell_type": "markdown",
   "metadata": {},
   "source": [
    "## Create the tensorflow estimator"
   ]
  },
  {
   "cell_type": "code",
   "execution_count": 14,
   "metadata": {
    "collapsed": true
   },
   "outputs": [],
   "source": [
    "import tensorflow as tf"
   ]
  },
  {
   "cell_type": "markdown",
   "metadata": {},
   "source": [
    "### Create the 'feature columns'"
   ]
  },
  {
   "cell_type": "code",
   "execution_count": 15,
   "metadata": {},
   "outputs": [
    {
     "data": {
      "text/plain": [
       "Index(['RowNumber', 'CustomerId', 'Surname', 'CreditScore', 'Geography',\n",
       "       'Gender', 'Age', 'Tenure', 'Balance', 'NumOfProducts', 'HasCrCard',\n",
       "       'IsActiveMember', 'EstimatedSalary', 'Exited'],\n",
       "      dtype='object')"
      ]
     },
     "execution_count": 15,
     "metadata": {},
     "output_type": "execute_result"
    }
   ],
   "source": [
    "df.columns"
   ]
  },
  {
   "cell_type": "code",
   "execution_count": 16,
   "metadata": {},
   "outputs": [],
   "source": [
    "# create the numeric columns\n",
    "age = tf.feature_column.numeric_column('Age')\n",
    "creditscore = tf.feature_column.numeric_column('CreditScore')\n",
    "tenure = tf.feature_column.numeric_column('Tenure')\n",
    "balance = tf.feature_column.numeric_column('Balance')\n",
    "numproducts = tf.feature_column.numeric_column('NumOfProducts')\n",
    "hascard = tf.feature_column.numeric_column('HasCrCard')\n",
    "isactive = tf.feature_column.numeric_column('IsActiveMember')\n",
    "estimated = tf.feature_column.numeric_column('EstimatedSalary')"
   ]
  },
  {
   "cell_type": "code",
   "execution_count": 17,
   "metadata": {},
   "outputs": [],
   "source": [
    "# create categorical columns\n",
    "geography = tf.feature_column.indicator_column(tf.feature_column.categorical_column_with_vocabulary_list(key='Geography',vocabulary_list=df['Geography'].unique()))\n",
    "gender = tf.feature_column.indicator_column(tf.feature_column.categorical_column_with_vocabulary_list(key='Gender',vocabulary_list=df['Gender'].unique()))"
   ]
  },
  {
   "cell_type": "code",
   "execution_count": 18,
   "metadata": {},
   "outputs": [],
   "source": [
    "# X_train['Age'].hist(bins=75)"
   ]
  },
  {
   "cell_type": "code",
   "execution_count": 19,
   "metadata": {},
   "outputs": [],
   "source": [
    "# Discretize the age column \n",
    "age_b = tf.feature_column.bucketized_column(age, boundaries=[20,30,40,50,60,70,80])"
   ]
  },
  {
   "cell_type": "code",
   "execution_count": 20,
   "metadata": {
    "collapsed": true
   },
   "outputs": [],
   "source": [
    "feat_cols = [age_b,creditscore,tenure,balance,numproducts,hascard,isactive,estimated,geography,gender ]"
   ]
  },
  {
   "cell_type": "markdown",
   "metadata": {},
   "source": [
    "### Create the input functions"
   ]
  },
  {
   "cell_type": "code",
   "execution_count": 21,
   "metadata": {},
   "outputs": [],
   "source": [
    "# A first input function for training: feed the model with the training data & result\n",
    "train_input_fn = tf.estimator.inputs.pandas_input_fn(x=X_train,y=y_train,batch_size=10,num_epochs=1000,shuffle=True)"
   ]
  },
  {
   "cell_type": "code",
   "execution_count": 22,
   "metadata": {
    "collapsed": true
   },
   "outputs": [],
   "source": [
    "# A second input function for testing: feed the model with the test data\n",
    "test_input_func = tf.estimator.inputs.pandas_input_fn(\n",
    "      x=X_test,\n",
    "      num_epochs=1,\n",
    "      shuffle=False)"
   ]
  },
  {
   "cell_type": "markdown",
   "metadata": {},
   "source": [
    "### Create the estimator and train it"
   ]
  },
  {
   "cell_type": "code",
   "execution_count": 23,
   "metadata": {},
   "outputs": [
    {
     "name": "stdout",
     "output_type": "stream",
     "text": [
      "INFO:tensorflow:Using default config.\n",
      "WARNING:tensorflow:Using temporary folder as model directory: /var/folders/2c/gpl2fhbx4kgft314vh0y0qq80000gn/T/tmps7azp675\n",
      "INFO:tensorflow:Using config: {'_save_checkpoints_secs': 600, '_model_dir': '/var/folders/2c/gpl2fhbx4kgft314vh0y0qq80000gn/T/tmps7azp675', '_keep_checkpoint_every_n_hours': 10000, '_save_summary_steps': 100, '_save_checkpoints_steps': None, '_log_step_count_steps': 100, '_session_config': None, '_keep_checkpoint_max': 5, '_tf_random_seed': 1}\n"
     ]
    }
   ],
   "source": [
    "# Create a neural network with 3 layers of 10 neurons each\n",
    "model = tf.estimator.DNNClassifier(hidden_units=[10,10,10],feature_columns=feat_cols,n_classes=2)"
   ]
  },
  {
   "cell_type": "code",
   "execution_count": 24,
   "metadata": {},
   "outputs": [
    {
     "name": "stdout",
     "output_type": "stream",
     "text": [
      "INFO:tensorflow:Create CheckpointSaverHook.\n",
      "INFO:tensorflow:Saving checkpoints for 1 into /var/folders/2c/gpl2fhbx4kgft314vh0y0qq80000gn/T/tmps7azp675/model.ckpt.\n",
      "INFO:tensorflow:step = 1, loss = 7.22234\n",
      "INFO:tensorflow:global_step/sec: 194.153\n",
      "INFO:tensorflow:step = 101, loss = 6.29115 (0.525 sec)\n",
      "INFO:tensorflow:global_step/sec: 154.396\n",
      "INFO:tensorflow:step = 201, loss = 3.8602 (0.653 sec)\n",
      "INFO:tensorflow:global_step/sec: 177.638\n",
      "INFO:tensorflow:step = 301, loss = 3.37532 (0.567 sec)\n",
      "INFO:tensorflow:global_step/sec: 195.191\n",
      "INFO:tensorflow:step = 401, loss = 4.89656 (0.503 sec)\n",
      "INFO:tensorflow:global_step/sec: 179.963\n",
      "INFO:tensorflow:step = 501, loss = 6.14504 (0.563 sec)\n",
      "INFO:tensorflow:global_step/sec: 193.68\n",
      "INFO:tensorflow:step = 601, loss = 4.36354 (0.512 sec)\n",
      "INFO:tensorflow:global_step/sec: 173.228\n",
      "INFO:tensorflow:step = 701, loss = 2.28477 (0.576 sec)\n",
      "INFO:tensorflow:global_step/sec: 197.898\n",
      "INFO:tensorflow:step = 801, loss = 5.17959 (0.504 sec)\n",
      "INFO:tensorflow:global_step/sec: 235.419\n",
      "INFO:tensorflow:step = 901, loss = 4.09898 (0.428 sec)\n",
      "INFO:tensorflow:global_step/sec: 182.024\n",
      "INFO:tensorflow:step = 1001, loss = 3.35014 (0.568 sec)\n",
      "INFO:tensorflow:global_step/sec: 189.035\n",
      "INFO:tensorflow:step = 1101, loss = 3.14739 (0.507 sec)\n",
      "INFO:tensorflow:global_step/sec: 237.955\n",
      "INFO:tensorflow:step = 1201, loss = 4.883 (0.417 sec)\n",
      "INFO:tensorflow:global_step/sec: 226.325\n",
      "INFO:tensorflow:step = 1301, loss = 2.0924 (0.441 sec)\n",
      "INFO:tensorflow:global_step/sec: 234.825\n",
      "INFO:tensorflow:step = 1401, loss = 2.40349 (0.425 sec)\n",
      "INFO:tensorflow:global_step/sec: 201.674\n",
      "INFO:tensorflow:step = 1501, loss = 3.31816 (0.505 sec)\n",
      "INFO:tensorflow:global_step/sec: 190.118\n",
      "INFO:tensorflow:step = 1601, loss = 1.9481 (0.525 sec)\n",
      "INFO:tensorflow:global_step/sec: 210.441\n",
      "INFO:tensorflow:step = 1701, loss = 3.18481 (0.469 sec)\n",
      "INFO:tensorflow:global_step/sec: 148.326\n",
      "INFO:tensorflow:step = 1801, loss = 5.39471 (0.686 sec)\n",
      "INFO:tensorflow:global_step/sec: 135.714\n",
      "INFO:tensorflow:step = 1901, loss = 4.62184 (0.729 sec)\n",
      "INFO:tensorflow:global_step/sec: 149.667\n",
      "INFO:tensorflow:step = 2001, loss = 2.74429 (0.673 sec)\n",
      "INFO:tensorflow:global_step/sec: 137.876\n",
      "INFO:tensorflow:step = 2101, loss = 6.43353 (0.733 sec)\n",
      "INFO:tensorflow:global_step/sec: 167.138\n",
      "INFO:tensorflow:step = 2201, loss = 6.14543 (0.594 sec)\n",
      "INFO:tensorflow:global_step/sec: 158.473\n",
      "INFO:tensorflow:step = 2301, loss = 3.18574 (0.631 sec)\n",
      "INFO:tensorflow:global_step/sec: 152.209\n",
      "INFO:tensorflow:step = 2401, loss = 9.56284 (0.650 sec)\n",
      "INFO:tensorflow:global_step/sec: 156.391\n",
      "INFO:tensorflow:step = 2501, loss = 1.85272 (0.657 sec)\n",
      "INFO:tensorflow:global_step/sec: 137.503\n",
      "INFO:tensorflow:step = 2601, loss = 4.62681 (0.712 sec)\n",
      "INFO:tensorflow:global_step/sec: 183.472\n",
      "INFO:tensorflow:step = 2701, loss = 3.91527 (0.555 sec)\n",
      "INFO:tensorflow:global_step/sec: 181.819\n",
      "INFO:tensorflow:step = 2801, loss = 1.72749 (0.540 sec)\n",
      "INFO:tensorflow:global_step/sec: 176.887\n",
      "INFO:tensorflow:step = 2901, loss = 3.78048 (0.572 sec)\n",
      "INFO:tensorflow:global_step/sec: 192.627\n",
      "INFO:tensorflow:step = 3001, loss = 3.12231 (0.509 sec)\n",
      "INFO:tensorflow:global_step/sec: 197.032\n",
      "INFO:tensorflow:step = 3101, loss = 7.17067 (0.513 sec)\n",
      "INFO:tensorflow:global_step/sec: 168.952\n",
      "INFO:tensorflow:step = 3201, loss = 5.71118 (0.612 sec)\n",
      "INFO:tensorflow:global_step/sec: 202.636\n",
      "INFO:tensorflow:step = 3301, loss = 4.48083 (0.470 sec)\n",
      "INFO:tensorflow:global_step/sec: 209.099\n",
      "INFO:tensorflow:step = 3401, loss = 3.0221 (0.480 sec)\n",
      "INFO:tensorflow:global_step/sec: 197.858\n",
      "INFO:tensorflow:step = 3501, loss = 3.60001 (0.507 sec)\n",
      "INFO:tensorflow:global_step/sec: 188.497\n",
      "INFO:tensorflow:step = 3601, loss = 5.49094 (0.540 sec)\n",
      "INFO:tensorflow:global_step/sec: 187.768\n",
      "INFO:tensorflow:step = 3701, loss = 4.18663 (0.514 sec)\n",
      "INFO:tensorflow:global_step/sec: 161.47\n",
      "INFO:tensorflow:step = 3801, loss = 1.41612 (0.626 sec)\n",
      "INFO:tensorflow:global_step/sec: 145.689\n",
      "INFO:tensorflow:step = 3901, loss = 5.75111 (0.704 sec)\n",
      "INFO:tensorflow:global_step/sec: 195.563\n",
      "INFO:tensorflow:step = 4001, loss = 6.99815 (0.489 sec)\n",
      "INFO:tensorflow:global_step/sec: 212.271\n",
      "INFO:tensorflow:step = 4101, loss = 5.53335 (0.469 sec)\n",
      "INFO:tensorflow:global_step/sec: 176.453\n",
      "INFO:tensorflow:step = 4201, loss = 1.27265 (0.583 sec)\n",
      "INFO:tensorflow:global_step/sec: 160.861\n",
      "INFO:tensorflow:step = 4301, loss = 2.7034 (0.649 sec)\n",
      "INFO:tensorflow:global_step/sec: 152.929\n",
      "INFO:tensorflow:step = 4401, loss = 3.68444 (0.611 sec)\n",
      "INFO:tensorflow:global_step/sec: 200.66\n",
      "INFO:tensorflow:step = 4501, loss = 7.29525 (0.502 sec)\n",
      "INFO:tensorflow:global_step/sec: 192.753\n",
      "INFO:tensorflow:step = 4601, loss = 4.66469 (0.530 sec)\n",
      "INFO:tensorflow:global_step/sec: 165.747\n",
      "INFO:tensorflow:step = 4701, loss = 2.82632 (0.626 sec)\n",
      "INFO:tensorflow:global_step/sec: 177.822\n",
      "INFO:tensorflow:step = 4801, loss = 11.1522 (0.528 sec)\n",
      "INFO:tensorflow:global_step/sec: 195.717\n",
      "INFO:tensorflow:step = 4901, loss = 2.22994 (0.518 sec)\n",
      "INFO:tensorflow:global_step/sec: 160.908\n",
      "INFO:tensorflow:step = 5001, loss = 5.94266 (0.633 sec)\n",
      "INFO:tensorflow:global_step/sec: 180.364\n",
      "INFO:tensorflow:step = 5101, loss = 2.30729 (0.538 sec)\n",
      "INFO:tensorflow:global_step/sec: 199.816\n",
      "INFO:tensorflow:step = 5201, loss = 3.10374 (0.497 sec)\n",
      "INFO:tensorflow:global_step/sec: 195.979\n",
      "INFO:tensorflow:step = 5301, loss = 2.78167 (0.521 sec)\n",
      "INFO:tensorflow:global_step/sec: 171.885\n",
      "INFO:tensorflow:step = 5401, loss = 4.06468 (0.584 sec)\n",
      "INFO:tensorflow:global_step/sec: 203.646\n",
      "INFO:tensorflow:step = 5501, loss = 4.85818 (0.477 sec)\n",
      "INFO:tensorflow:global_step/sec: 244.87\n",
      "INFO:tensorflow:step = 5601, loss = 1.84036 (0.409 sec)\n",
      "INFO:tensorflow:global_step/sec: 216.283\n",
      "INFO:tensorflow:step = 5701, loss = 4.32749 (0.465 sec)\n",
      "INFO:tensorflow:global_step/sec: 199.12\n",
      "INFO:tensorflow:step = 5801, loss = 2.5442 (0.497 sec)\n",
      "INFO:tensorflow:global_step/sec: 208.6\n",
      "INFO:tensorflow:step = 5901, loss = 3.33779 (0.480 sec)\n",
      "INFO:tensorflow:global_step/sec: 168.299\n",
      "INFO:tensorflow:step = 6001, loss = 5.04872 (0.612 sec)\n",
      "INFO:tensorflow:global_step/sec: 180.922\n",
      "INFO:tensorflow:step = 6101, loss = 7.75979 (0.538 sec)\n",
      "INFO:tensorflow:global_step/sec: 200.54\n",
      "INFO:tensorflow:step = 6201, loss = 2.90733 (0.500 sec)\n",
      "INFO:tensorflow:global_step/sec: 214.748\n",
      "INFO:tensorflow:step = 6301, loss = 1.30388 (0.468 sec)\n",
      "INFO:tensorflow:global_step/sec: 272.733\n",
      "INFO:tensorflow:step = 6401, loss = 3.24527 (0.361 sec)\n",
      "INFO:tensorflow:global_step/sec: 233.128\n",
      "INFO:tensorflow:step = 6501, loss = 3.24099 (0.432 sec)\n",
      "INFO:tensorflow:global_step/sec: 197.29\n",
      "INFO:tensorflow:step = 6601, loss = 0.929278 (0.514 sec)\n",
      "INFO:tensorflow:global_step/sec: 260.823\n",
      "INFO:tensorflow:step = 6701, loss = 1.35028 (0.376 sec)\n",
      "INFO:tensorflow:global_step/sec: 198.433\n",
      "INFO:tensorflow:step = 6801, loss = 5.5833 (0.497 sec)\n",
      "INFO:tensorflow:global_step/sec: 232.393\n",
      "INFO:tensorflow:step = 6901, loss = 1.63027 (0.434 sec)\n",
      "INFO:tensorflow:global_step/sec: 210.143\n",
      "INFO:tensorflow:step = 7001, loss = 3.59394 (0.476 sec)\n",
      "INFO:tensorflow:global_step/sec: 177.286\n",
      "INFO:tensorflow:step = 7101, loss = 3.89084 (0.573 sec)\n",
      "INFO:tensorflow:global_step/sec: 200.959\n",
      "INFO:tensorflow:step = 7201, loss = 3.12151 (0.494 sec)\n",
      "INFO:tensorflow:global_step/sec: 212.036\n",
      "INFO:tensorflow:step = 7301, loss = 3.88351 (0.478 sec)\n",
      "INFO:tensorflow:global_step/sec: 180.422\n",
      "INFO:tensorflow:step = 7401, loss = 2.83291 (0.574 sec)\n",
      "INFO:tensorflow:global_step/sec: 179.299\n",
      "INFO:tensorflow:step = 7501, loss = 6.49581 (0.542 sec)\n",
      "INFO:tensorflow:global_step/sec: 194.995\n",
      "INFO:tensorflow:step = 7601, loss = 4.36441 (0.506 sec)\n",
      "INFO:tensorflow:global_step/sec: 172.472\n",
      "INFO:tensorflow:step = 7701, loss = 1.12419 (0.593 sec)\n",
      "INFO:tensorflow:global_step/sec: 202.865\n",
      "INFO:tensorflow:step = 7801, loss = 6.0486 (0.474 sec)\n",
      "INFO:tensorflow:global_step/sec: 187.892\n",
      "INFO:tensorflow:step = 7901, loss = 2.77153 (0.547 sec)\n",
      "INFO:tensorflow:global_step/sec: 186.529\n",
      "INFO:tensorflow:step = 8001, loss = 4.62481 (0.523 sec)\n",
      "INFO:tensorflow:global_step/sec: 189.744\n",
      "INFO:tensorflow:step = 8101, loss = 1.67724 (0.538 sec)\n",
      "INFO:tensorflow:global_step/sec: 178.787\n",
      "INFO:tensorflow:step = 8201, loss = 3.29161 (0.549 sec)\n",
      "INFO:tensorflow:global_step/sec: 184.098\n",
      "INFO:tensorflow:step = 8301, loss = 1.09918 (0.545 sec)\n"
     ]
    },
    {
     "name": "stdout",
     "output_type": "stream",
     "text": [
      "INFO:tensorflow:global_step/sec: 189.912\n",
      "INFO:tensorflow:step = 8401, loss = 5.44018 (0.529 sec)\n",
      "INFO:tensorflow:global_step/sec: 130.68\n",
      "INFO:tensorflow:step = 8501, loss = 6.20945 (0.772 sec)\n",
      "INFO:tensorflow:global_step/sec: 191.202\n",
      "INFO:tensorflow:step = 8601, loss = 2.47326 (0.508 sec)\n",
      "INFO:tensorflow:global_step/sec: 197.578\n",
      "INFO:tensorflow:step = 8701, loss = 2.38382 (0.513 sec)\n",
      "INFO:tensorflow:global_step/sec: 193.952\n",
      "INFO:tensorflow:step = 8801, loss = 1.25294 (0.512 sec)\n",
      "INFO:tensorflow:global_step/sec: 202.308\n",
      "INFO:tensorflow:step = 8901, loss = 4.91465 (0.493 sec)\n",
      "INFO:tensorflow:global_step/sec: 202.397\n",
      "INFO:tensorflow:step = 9001, loss = 5.3792 (0.493 sec)\n",
      "INFO:tensorflow:global_step/sec: 165.937\n",
      "INFO:tensorflow:step = 9101, loss = 1.36519 (0.619 sec)\n",
      "INFO:tensorflow:global_step/sec: 213.683\n",
      "INFO:tensorflow:step = 9201, loss = 1.85857 (0.455 sec)\n",
      "INFO:tensorflow:global_step/sec: 213.508\n",
      "INFO:tensorflow:step = 9301, loss = 1.32468 (0.470 sec)\n",
      "INFO:tensorflow:global_step/sec: 193.299\n",
      "INFO:tensorflow:step = 9401, loss = 0.952197 (0.518 sec)\n",
      "INFO:tensorflow:global_step/sec: 198.453\n",
      "INFO:tensorflow:step = 9501, loss = 3.20263 (0.502 sec)\n",
      "INFO:tensorflow:global_step/sec: 184.856\n",
      "INFO:tensorflow:step = 9601, loss = 5.23212 (0.536 sec)\n",
      "INFO:tensorflow:global_step/sec: 204.255\n",
      "INFO:tensorflow:step = 9701, loss = 5.08746 (0.496 sec)\n",
      "INFO:tensorflow:global_step/sec: 191.042\n",
      "INFO:tensorflow:step = 9801, loss = 6.37035 (0.524 sec)\n",
      "INFO:tensorflow:global_step/sec: 201.141\n",
      "INFO:tensorflow:step = 9901, loss = 5.76032 (0.492 sec)\n",
      "INFO:tensorflow:global_step/sec: 197.966\n",
      "INFO:tensorflow:step = 10001, loss = 2.72893 (0.520 sec)\n",
      "INFO:tensorflow:global_step/sec: 193.202\n",
      "INFO:tensorflow:step = 10101, loss = 5.6882 (0.506 sec)\n",
      "INFO:tensorflow:global_step/sec: 185.943\n",
      "INFO:tensorflow:step = 10201, loss = 2.43161 (0.550 sec)\n",
      "INFO:tensorflow:global_step/sec: 189.474\n",
      "INFO:tensorflow:step = 10301, loss = 8.03175 (0.514 sec)\n",
      "INFO:tensorflow:global_step/sec: 196.725\n",
      "INFO:tensorflow:step = 10401, loss = 2.77056 (0.507 sec)\n",
      "INFO:tensorflow:global_step/sec: 209.111\n",
      "INFO:tensorflow:step = 10501, loss = 1.95562 (0.482 sec)\n",
      "INFO:tensorflow:global_step/sec: 207.2\n",
      "INFO:tensorflow:step = 10601, loss = 5.59661 (0.480 sec)\n",
      "INFO:tensorflow:global_step/sec: 216.094\n",
      "INFO:tensorflow:step = 10701, loss = 5.25891 (0.468 sec)\n",
      "INFO:tensorflow:global_step/sec: 203.815\n",
      "INFO:tensorflow:step = 10801, loss = 2.32819 (0.484 sec)\n",
      "INFO:tensorflow:global_step/sec: 193.765\n",
      "INFO:tensorflow:step = 10901, loss = 0.832875 (0.534 sec)\n",
      "INFO:tensorflow:global_step/sec: 172.703\n",
      "INFO:tensorflow:step = 11001, loss = 4.46331 (0.567 sec)\n",
      "INFO:tensorflow:global_step/sec: 198.941\n",
      "INFO:tensorflow:step = 11101, loss = 4.23869 (0.497 sec)\n",
      "INFO:tensorflow:global_step/sec: 204.539\n",
      "INFO:tensorflow:step = 11201, loss = 3.5924 (0.491 sec)\n",
      "INFO:tensorflow:global_step/sec: 144.429\n",
      "INFO:tensorflow:step = 11301, loss = 4.03661 (0.697 sec)\n",
      "INFO:tensorflow:global_step/sec: 174.045\n",
      "INFO:tensorflow:step = 11401, loss = 3.193 (0.578 sec)\n",
      "INFO:tensorflow:global_step/sec: 194.588\n",
      "INFO:tensorflow:step = 11501, loss = 3.27883 (0.507 sec)\n",
      "INFO:tensorflow:global_step/sec: 272.669\n",
      "INFO:tensorflow:step = 11601, loss = 2.26977 (0.363 sec)\n",
      "INFO:tensorflow:global_step/sec: 222.101\n",
      "INFO:tensorflow:step = 11701, loss = 5.15945 (0.449 sec)\n",
      "INFO:tensorflow:global_step/sec: 208.257\n",
      "INFO:tensorflow:step = 11801, loss = 3.65602 (0.489 sec)\n",
      "INFO:tensorflow:global_step/sec: 203.086\n",
      "INFO:tensorflow:step = 11901, loss = 1.48811 (0.494 sec)\n",
      "INFO:tensorflow:global_step/sec: 217.816\n",
      "INFO:tensorflow:step = 12001, loss = 6.13838 (0.452 sec)\n",
      "INFO:tensorflow:global_step/sec: 222.184\n",
      "INFO:tensorflow:step = 12101, loss = 1.74454 (0.450 sec)\n",
      "INFO:tensorflow:global_step/sec: 226.394\n",
      "INFO:tensorflow:step = 12201, loss = 1.00151 (0.439 sec)\n",
      "INFO:tensorflow:global_step/sec: 234.272\n",
      "INFO:tensorflow:step = 12301, loss = 5.58084 (0.429 sec)\n",
      "INFO:tensorflow:global_step/sec: 235.203\n",
      "INFO:tensorflow:step = 12401, loss = 6.85576 (0.425 sec)\n",
      "INFO:tensorflow:global_step/sec: 226.375\n",
      "INFO:tensorflow:step = 12501, loss = 2.50228 (0.439 sec)\n",
      "INFO:tensorflow:global_step/sec: 224.437\n",
      "INFO:tensorflow:step = 12601, loss = 6.4309 (0.449 sec)\n",
      "INFO:tensorflow:global_step/sec: 268.332\n",
      "INFO:tensorflow:step = 12701, loss = 4.33587 (0.374 sec)\n",
      "INFO:tensorflow:global_step/sec: 200.592\n",
      "INFO:tensorflow:step = 12801, loss = 4.8578 (0.513 sec)\n",
      "INFO:tensorflow:global_step/sec: 221.577\n",
      "INFO:tensorflow:step = 12901, loss = 2.27344 (0.435 sec)\n",
      "INFO:tensorflow:global_step/sec: 191.843\n",
      "INFO:tensorflow:step = 13001, loss = 3.02168 (0.523 sec)\n",
      "INFO:tensorflow:global_step/sec: 198.674\n",
      "INFO:tensorflow:step = 13101, loss = 1.53052 (0.499 sec)\n",
      "INFO:tensorflow:global_step/sec: 246.099\n",
      "INFO:tensorflow:step = 13201, loss = 2.08397 (0.405 sec)\n",
      "INFO:tensorflow:global_step/sec: 239.521\n",
      "INFO:tensorflow:step = 13301, loss = 1.25746 (0.419 sec)\n",
      "INFO:tensorflow:global_step/sec: 194.474\n",
      "INFO:tensorflow:step = 13401, loss = 3.98439 (0.528 sec)\n",
      "INFO:tensorflow:global_step/sec: 169.915\n",
      "INFO:tensorflow:step = 13501, loss = 6.1788 (0.579 sec)\n",
      "INFO:tensorflow:global_step/sec: 198.623\n",
      "INFO:tensorflow:step = 13601, loss = 4.6502 (0.499 sec)\n",
      "INFO:tensorflow:global_step/sec: 203.513\n",
      "INFO:tensorflow:step = 13701, loss = 1.83535 (0.497 sec)\n",
      "INFO:tensorflow:global_step/sec: 193.272\n",
      "INFO:tensorflow:step = 13801, loss = 5.56071 (0.532 sec)\n",
      "INFO:tensorflow:global_step/sec: 194.151\n",
      "INFO:tensorflow:step = 13901, loss = 1.34787 (0.497 sec)\n",
      "INFO:tensorflow:global_step/sec: 186.688\n",
      "INFO:tensorflow:step = 14001, loss = 1.65361 (0.557 sec)\n",
      "INFO:tensorflow:global_step/sec: 187.249\n",
      "INFO:tensorflow:step = 14101, loss = 2.01584 (0.512 sec)\n",
      "INFO:tensorflow:global_step/sec: 253.962\n",
      "INFO:tensorflow:step = 14201, loss = 0.748972 (0.388 sec)\n",
      "INFO:tensorflow:global_step/sec: 230.309\n",
      "INFO:tensorflow:step = 14301, loss = 2.97187 (0.439 sec)\n",
      "INFO:tensorflow:global_step/sec: 214.206\n",
      "INFO:tensorflow:step = 14401, loss = 5.99106 (0.467 sec)\n",
      "INFO:tensorflow:global_step/sec: 214.274\n",
      "INFO:tensorflow:step = 14501, loss = 8.09427 (0.466 sec)\n",
      "INFO:tensorflow:global_step/sec: 234.334\n",
      "INFO:tensorflow:step = 14601, loss = 1.50833 (0.431 sec)\n",
      "INFO:tensorflow:global_step/sec: 231.61\n",
      "INFO:tensorflow:step = 14701, loss = 1.53576 (0.429 sec)\n",
      "INFO:tensorflow:global_step/sec: 242.51\n",
      "INFO:tensorflow:step = 14801, loss = 6.32711 (0.413 sec)\n",
      "INFO:tensorflow:global_step/sec: 195.255\n",
      "INFO:tensorflow:step = 14901, loss = 2.91824 (0.525 sec)\n",
      "INFO:tensorflow:global_step/sec: 202.397\n",
      "INFO:tensorflow:step = 15001, loss = 6.32323 (0.480 sec)\n",
      "INFO:tensorflow:global_step/sec: 250.393\n",
      "INFO:tensorflow:step = 15101, loss = 1.64046 (0.402 sec)\n",
      "INFO:tensorflow:global_step/sec: 225.118\n",
      "INFO:tensorflow:step = 15201, loss = 7.01094 (0.444 sec)\n",
      "INFO:tensorflow:global_step/sec: 214.82\n",
      "INFO:tensorflow:step = 15301, loss = 2.88761 (0.464 sec)\n",
      "INFO:tensorflow:global_step/sec: 203.73\n",
      "INFO:tensorflow:step = 15401, loss = 1.31832 (0.493 sec)\n",
      "INFO:tensorflow:global_step/sec: 175.052\n",
      "INFO:tensorflow:step = 15501, loss = 2.69167 (0.580 sec)\n",
      "INFO:tensorflow:global_step/sec: 199.307\n",
      "INFO:tensorflow:step = 15601, loss = 3.66672 (0.493 sec)\n",
      "INFO:tensorflow:global_step/sec: 201.634\n",
      "INFO:tensorflow:step = 15701, loss = 3.06451 (0.500 sec)\n",
      "INFO:tensorflow:global_step/sec: 194.716\n",
      "INFO:tensorflow:step = 15801, loss = 3.39073 (0.506 sec)\n",
      "INFO:tensorflow:global_step/sec: 192.815\n",
      "INFO:tensorflow:step = 15901, loss = 3.19205 (0.544 sec)\n",
      "INFO:tensorflow:global_step/sec: 195.202\n",
      "INFO:tensorflow:step = 16001, loss = 4.64745 (0.491 sec)\n",
      "INFO:tensorflow:global_step/sec: 188.843\n",
      "INFO:tensorflow:step = 16101, loss = 1.31931 (0.537 sec)\n",
      "INFO:tensorflow:global_step/sec: 187.135\n",
      "INFO:tensorflow:step = 16201, loss = 2.67488 (0.520 sec)\n",
      "INFO:tensorflow:global_step/sec: 198.555\n",
      "INFO:tensorflow:step = 16301, loss = 6.77198 (0.512 sec)\n",
      "INFO:tensorflow:global_step/sec: 195.443\n",
      "INFO:tensorflow:step = 16401, loss = 2.99433 (0.509 sec)\n",
      "INFO:tensorflow:global_step/sec: 203.729\n",
      "INFO:tensorflow:step = 16501, loss = 4.43383 (0.497 sec)\n",
      "INFO:tensorflow:global_step/sec: 203.867\n",
      "INFO:tensorflow:step = 16601, loss = 2.25044 (0.487 sec)\n",
      "INFO:tensorflow:global_step/sec: 208.231\n",
      "INFO:tensorflow:step = 16701, loss = 1.45296 (0.478 sec)\n"
     ]
    },
    {
     "name": "stdout",
     "output_type": "stream",
     "text": [
      "INFO:tensorflow:global_step/sec: 245.406\n",
      "INFO:tensorflow:step = 16801, loss = 7.94516 (0.405 sec)\n",
      "INFO:tensorflow:global_step/sec: 134.58\n",
      "INFO:tensorflow:step = 16901, loss = 3.56316 (0.757 sec)\n",
      "INFO:tensorflow:global_step/sec: 201.971\n",
      "INFO:tensorflow:step = 17001, loss = 4.02011 (0.482 sec)\n",
      "INFO:tensorflow:global_step/sec: 152.866\n",
      "INFO:tensorflow:step = 17101, loss = 3.11319 (0.673 sec)\n",
      "INFO:tensorflow:global_step/sec: 168.162\n",
      "INFO:tensorflow:step = 17201, loss = 6.48911 (0.590 sec)\n",
      "INFO:tensorflow:global_step/sec: 163.258\n",
      "INFO:tensorflow:step = 17301, loss = 5.155 (0.609 sec)\n",
      "INFO:tensorflow:global_step/sec: 189.17\n",
      "INFO:tensorflow:step = 17401, loss = 1.54677 (0.523 sec)\n",
      "INFO:tensorflow:global_step/sec: 189.119\n",
      "INFO:tensorflow:step = 17501, loss = 1.48102 (0.530 sec)\n",
      "INFO:tensorflow:global_step/sec: 226.004\n",
      "INFO:tensorflow:step = 17601, loss = 0.989935 (0.435 sec)\n",
      "INFO:tensorflow:global_step/sec: 215.067\n",
      "INFO:tensorflow:step = 17701, loss = 4.51529 (0.461 sec)\n",
      "INFO:tensorflow:global_step/sec: 208.708\n",
      "INFO:tensorflow:step = 17801, loss = 3.14097 (0.488 sec)\n",
      "INFO:tensorflow:global_step/sec: 204.536\n",
      "INFO:tensorflow:step = 17901, loss = 2.70505 (0.482 sec)\n",
      "INFO:tensorflow:global_step/sec: 216.736\n",
      "INFO:tensorflow:step = 18001, loss = 5.25795 (0.465 sec)\n",
      "INFO:tensorflow:global_step/sec: 198.769\n",
      "INFO:tensorflow:step = 18101, loss = 4.24981 (0.517 sec)\n",
      "INFO:tensorflow:global_step/sec: 168.368\n",
      "INFO:tensorflow:step = 18201, loss = 2.95668 (0.599 sec)\n",
      "INFO:tensorflow:global_step/sec: 188.752\n",
      "INFO:tensorflow:step = 18301, loss = 2.99759 (0.520 sec)\n",
      "INFO:tensorflow:global_step/sec: 173.843\n",
      "INFO:tensorflow:step = 18401, loss = 2.01327 (0.573 sec)\n",
      "INFO:tensorflow:global_step/sec: 182.05\n",
      "INFO:tensorflow:step = 18501, loss = 6.57521 (0.547 sec)\n",
      "INFO:tensorflow:global_step/sec: 193.212\n",
      "INFO:tensorflow:step = 18601, loss = 5.29063 (0.511 sec)\n",
      "INFO:tensorflow:global_step/sec: 240.553\n",
      "INFO:tensorflow:step = 18701, loss = 5.48447 (0.421 sec)\n",
      "INFO:tensorflow:global_step/sec: 230.898\n",
      "INFO:tensorflow:step = 18801, loss = 0.889004 (0.431 sec)\n",
      "INFO:tensorflow:global_step/sec: 216.899\n",
      "INFO:tensorflow:step = 18901, loss = 2.07958 (0.465 sec)\n",
      "INFO:tensorflow:global_step/sec: 197.187\n",
      "INFO:tensorflow:step = 19001, loss = 5.40184 (0.506 sec)\n",
      "INFO:tensorflow:global_step/sec: 179.372\n",
      "INFO:tensorflow:step = 19101, loss = 4.43275 (0.581 sec)\n",
      "INFO:tensorflow:global_step/sec: 175.989\n",
      "INFO:tensorflow:step = 19201, loss = 4.85357 (0.560 sec)\n",
      "INFO:tensorflow:global_step/sec: 191.446\n",
      "INFO:tensorflow:step = 19301, loss = 3.49696 (0.508 sec)\n",
      "INFO:tensorflow:global_step/sec: 230.559\n",
      "INFO:tensorflow:step = 19401, loss = 4.58565 (0.436 sec)\n",
      "INFO:tensorflow:global_step/sec: 205.14\n",
      "INFO:tensorflow:step = 19501, loss = 2.06062 (0.482 sec)\n",
      "INFO:tensorflow:global_step/sec: 200.493\n",
      "INFO:tensorflow:step = 19601, loss = 3.17891 (0.498 sec)\n",
      "INFO:tensorflow:global_step/sec: 200.472\n",
      "INFO:tensorflow:step = 19701, loss = 4.21082 (0.503 sec)\n",
      "INFO:tensorflow:global_step/sec: 219.035\n",
      "INFO:tensorflow:step = 19801, loss = 1.53772 (0.456 sec)\n",
      "INFO:tensorflow:global_step/sec: 233.585\n",
      "INFO:tensorflow:step = 19901, loss = 2.55389 (0.425 sec)\n",
      "INFO:tensorflow:Saving checkpoints for 20000 into /var/folders/2c/gpl2fhbx4kgft314vh0y0qq80000gn/T/tmps7azp675/model.ckpt.\n",
      "INFO:tensorflow:Loss for final step: 3.00838.\n"
     ]
    },
    {
     "data": {
      "text/plain": [
       "<tensorflow.python.estimator.canned.dnn.DNNClassifier at 0x1186b0160>"
      ]
     },
     "execution_count": 24,
     "metadata": {},
     "output_type": "execute_result"
    }
   ],
   "source": [
    "# 7000 entries in X_train data = 1 epoch = 700 steps with batch of 10\n",
    "# Go through the whole data set one time\n",
    "model.train(input_fn=train_input_fn,steps=20000)"
   ]
  },
  {
   "cell_type": "markdown",
   "metadata": {},
   "source": [
    "## Evaluate our estimator"
   ]
  },
  {
   "cell_type": "code",
   "execution_count": 25,
   "metadata": {},
   "outputs": [
    {
     "name": "stdout",
     "output_type": "stream",
     "text": [
      "INFO:tensorflow:Restoring parameters from /var/folders/2c/gpl2fhbx4kgft314vh0y0qq80000gn/T/tmps7azp675/model.ckpt-20000\n"
     ]
    }
   ],
   "source": [
    "predictions = model.predict(test_input_func)\n",
    "pred_list = list(predictions)"
   ]
  },
  {
   "cell_type": "code",
   "execution_count": 26,
   "metadata": {
    "collapsed": true
   },
   "outputs": [],
   "source": [
    "y_pred = []\n",
    "for p in pred_list:\n",
    "    y_pred.append(p['class_ids'][0])"
   ]
  },
  {
   "cell_type": "markdown",
   "metadata": {},
   "source": [
    "### Confusion Matrix"
   ]
  },
  {
   "cell_type": "code",
   "execution_count": 27,
   "metadata": {
    "collapsed": true
   },
   "outputs": [],
   "source": [
    "from sklearn.metrics import confusion_matrix"
   ]
  },
  {
   "cell_type": "code",
   "execution_count": 28,
   "metadata": {},
   "outputs": [],
   "source": [
    "def plot_confusion_matrix(cm, classes,\n",
    "                          normalize=False,\n",
    "                          title='Confusion matrix',\n",
    "                          cmap=plt.cm.Blues):\n",
    "    \"\"\"\n",
    "    This function prints and plots the confusion matrix.\n",
    "    Normalization can be applied by setting `normalize=True`.\n",
    "    \"\"\"\n",
    "    if normalize:\n",
    "        cm = cm.astype('float') / cm.sum(axis=1)[:, np.newaxis]\n",
    "\n",
    "    plt.imshow(cm, interpolation='nearest', cmap=cmap)\n",
    "    plt.title(title)\n",
    "    plt.colorbar()\n",
    "    tick_marks = np.arange(len(classes))\n",
    "    plt.xticks(tick_marks, classes, rotation=45)\n",
    "    plt.yticks(tick_marks, classes)\n",
    "\n",
    "    fmt = '.2f' if normalize else 'd'\n",
    "    thresh = cm.max() / 2.\n",
    "    for i, j in itertools.product(range(cm.shape[0]), range(cm.shape[1])):\n",
    "        plt.text(j, i, format(cm[i, j], fmt),\n",
    "                 horizontalalignment=\"center\",\n",
    "                 color=\"white\" if cm[i, j] > thresh else \"black\")\n",
    "\n",
    "    plt.tight_layout()\n",
    "    plt.ylabel('True label')\n",
    "    plt.xlabel('Predicted label')\n"
   ]
  },
  {
   "cell_type": "code",
   "execution_count": 29,
   "metadata": {
    "collapsed": true
   },
   "outputs": [],
   "source": [
    "# Confusion matrix for prediction\n",
    "cmp=confusion_matrix(y_true, y_pred)"
   ]
  },
  {
   "cell_type": "code",
   "execution_count": 30,
   "metadata": {},
   "outputs": [
    {
     "data": {
      "text/plain": [
       "array([[2284,   94],\n",
       "       [ 328,  294]])"
      ]
     },
     "execution_count": 30,
     "metadata": {},
     "output_type": "execute_result"
    }
   ],
   "source": [
    "cmp"
   ]
  },
  {
   "cell_type": "code",
   "execution_count": 31,
   "metadata": {},
   "outputs": [
    {
     "data": {
      "image/png": "[encoded data removed]",
      "text/plain": [
       "<matplotlib.figure.Figure at 0x11912d5f8>"
      ]
     },
     "metadata": {},
     "output_type": "display_data"
    }
   ],
   "source": [
    "plot_confusion_matrix(cmp,[\"Loyal\",\"Churned\"],True)"
   ]
  },
  {
   "cell_type": "markdown",
   "metadata": {},
   "source": [
    "### Classification Report"
   ]
  },
  {
   "cell_type": "code",
   "execution_count": 32,
   "metadata": {},
   "outputs": [],
   "source": [
    "from sklearn.metrics import classification_report"
   ]
  },
  {
   "cell_type": "code",
   "execution_count": 34,
   "metadata": {},
   "outputs": [
    {
     "name": "stdout",
     "output_type": "stream",
     "text": [
      "             precision    recall  f1-score   support\n",
      "\n",
      "  Loyal (0)       0.87      0.96      0.92      2378\n",
      "Churned (1)       0.76      0.47      0.58       622\n",
      "\n",
      "avg / total       0.85      0.86      0.85      3000\n",
      "\n"
     ]
    }
   ],
   "source": [
    "print(classification_report(y_true,y_pred,target_names=[\"Loyal (0)\",\"Churned (1)\"]))"
   ]
  },
  {
   "cell_type": "code",
   "execution_count": null,
   "metadata": {
    "collapsed": true
   },
   "outputs": [],
   "source": []
  }
 ],
 "metadata": {
  "kernelspec": {
   "display_name": "Python 3",
   "language": "python",
   "name": "python3"
  },
  "language_info": {
   "codemirror_mode": {
    "name": "ipython",
    "version": 3
   },
   "file_extension": ".py",
   "mimetype": "text/x-python",
   "name": "python",
   "nbconvert_exporter": "python",
   "pygments_lexer": "ipython3",
   "version": "3.5.4"
  }
 },
 "nbformat": 4,
 "nbformat_minor": 2
}
