{
 "cells": [
  {
   "cell_type": "markdown",
   "metadata": {},
   "source": [
    "# DNN Classification with Tensorflow"
   ]
  },
  {
   "cell_type": "markdown",
   "metadata": {},
   "source": [
    "## Prepare the data"
   ]
  },
  {
   "cell_type": "markdown",
   "metadata": {},
   "source": [
    "### Load the dataset"
   ]
  },
  {
   "cell_type": "code",
   "execution_count": 45,
   "metadata": {
    "collapsed": true
   },
   "outputs": [],
   "source": [
    "# import the libraries we will use\n",
    "import pandas as pd\n",
    "import numpy as np\n",
    "import itertools\n",
    "import matplotlib.pyplot as plt\n",
    "%matplotlib inline"
   ]
  },
  {
   "cell_type": "code",
   "execution_count": 2,
   "metadata": {
    "collapsed": true
   },
   "outputs": [],
   "source": [
    "# read a CSV file, french style\n",
    "df = pd.read_csv('Churn.csv',sep=',')"
   ]
  },
  {
   "cell_type": "code",
   "execution_count": 3,
   "metadata": {},
   "outputs": [
    {
     "data": {
      "text/html": [
       "<div>\n",
       "<style>\n",
       "    .dataframe thead tr:only-child th {\n",
       "        text-align: right;\n",
       "    }\n",
       "\n",
       "    .dataframe thead th {\n",
       "        text-align: left;\n",
       "    }\n",
       "\n",
       "    .dataframe tbody tr th {\n",
       "        vertical-align: top;\n",
       "    }\n",
       "</style>\n",
       "<table border=\"1\" class=\"dataframe\">\n",
       "  <thead>\n",
       "    <tr style=\"text-align: right;\">\n",
       "      <th></th>\n",
       "      <th>RowNumber</th>\n",
       "      <th>CustomerId</th>\n",
       "      <th>Surname</th>\n",
       "      <th>CreditScore</th>\n",
       "      <th>Geography</th>\n",
       "      <th>Gender</th>\n",
       "      <th>Age</th>\n",
       "      <th>Tenure</th>\n",
       "      <th>Balance</th>\n",
       "      <th>NumOfProducts</th>\n",
       "      <th>HasCrCard</th>\n",
       "      <th>IsActiveMember</th>\n",
       "      <th>EstimatedSalary</th>\n",
       "      <th>Exited</th>\n",
       "    </tr>\n",
       "  </thead>\n",
       "  <tbody>\n",
       "    <tr>\n",
       "      <th>0</th>\n",
       "      <td>1</td>\n",
       "      <td>15634602</td>\n",
       "      <td>Hargrave</td>\n",
       "      <td>619</td>\n",
       "      <td>France</td>\n",
       "      <td>Female</td>\n",
       "      <td>42</td>\n",
       "      <td>2</td>\n",
       "      <td>0.00</td>\n",
       "      <td>1</td>\n",
       "      <td>1</td>\n",
       "      <td>1</td>\n",
       "      <td>101348.88</td>\n",
       "      <td>1</td>\n",
       "    </tr>\n",
       "    <tr>\n",
       "      <th>1</th>\n",
       "      <td>2</td>\n",
       "      <td>15647311</td>\n",
       "      <td>Hill</td>\n",
       "      <td>608</td>\n",
       "      <td>Spain</td>\n",
       "      <td>Female</td>\n",
       "      <td>41</td>\n",
       "      <td>1</td>\n",
       "      <td>83807.86</td>\n",
       "      <td>1</td>\n",
       "      <td>0</td>\n",
       "      <td>1</td>\n",
       "      <td>112542.58</td>\n",
       "      <td>0</td>\n",
       "    </tr>\n",
       "    <tr>\n",
       "      <th>2</th>\n",
       "      <td>3</td>\n",
       "      <td>15619304</td>\n",
       "      <td>Onio</td>\n",
       "      <td>502</td>\n",
       "      <td>France</td>\n",
       "      <td>Female</td>\n",
       "      <td>42</td>\n",
       "      <td>8</td>\n",
       "      <td>159660.80</td>\n",
       "      <td>3</td>\n",
       "      <td>1</td>\n",
       "      <td>0</td>\n",
       "      <td>113931.57</td>\n",
       "      <td>1</td>\n",
       "    </tr>\n",
       "    <tr>\n",
       "      <th>3</th>\n",
       "      <td>4</td>\n",
       "      <td>15701354</td>\n",
       "      <td>Boni</td>\n",
       "      <td>699</td>\n",
       "      <td>France</td>\n",
       "      <td>Female</td>\n",
       "      <td>39</td>\n",
       "      <td>1</td>\n",
       "      <td>0.00</td>\n",
       "      <td>2</td>\n",
       "      <td>0</td>\n",
       "      <td>0</td>\n",
       "      <td>93826.63</td>\n",
       "      <td>0</td>\n",
       "    </tr>\n",
       "    <tr>\n",
       "      <th>4</th>\n",
       "      <td>5</td>\n",
       "      <td>15737888</td>\n",
       "      <td>Mitchell</td>\n",
       "      <td>850</td>\n",
       "      <td>Spain</td>\n",
       "      <td>Female</td>\n",
       "      <td>43</td>\n",
       "      <td>2</td>\n",
       "      <td>125510.82</td>\n",
       "      <td>1</td>\n",
       "      <td>1</td>\n",
       "      <td>1</td>\n",
       "      <td>79084.10</td>\n",
       "      <td>0</td>\n",
       "    </tr>\n",
       "  </tbody>\n",
       "</table>\n",
       "</div>"
      ],
      "text/plain": [
       "   RowNumber  CustomerId   Surname  CreditScore Geography  Gender  Age  \\\n",
       "0          1    15634602  Hargrave          619    France  Female   42   \n",
       "1          2    15647311      Hill          608     Spain  Female   41   \n",
       "2          3    15619304      Onio          502    France  Female   42   \n",
       "3          4    15701354      Boni          699    France  Female   39   \n",
       "4          5    15737888  Mitchell          850     Spain  Female   43   \n",
       "\n",
       "   Tenure    Balance  NumOfProducts  HasCrCard  IsActiveMember  \\\n",
       "0       2       0.00              1          1               1   \n",
       "1       1   83807.86              1          0               1   \n",
       "2       8  159660.80              3          1               0   \n",
       "3       1       0.00              2          0               0   \n",
       "4       2  125510.82              1          1               1   \n",
       "\n",
       "   EstimatedSalary  Exited  \n",
       "0        101348.88       1  \n",
       "1        112542.58       0  \n",
       "2        113931.57       1  \n",
       "3         93826.63       0  \n",
       "4         79084.10       0  "
      ]
     },
     "execution_count": 3,
     "metadata": {},
     "output_type": "execute_result"
    }
   ],
   "source": [
    "df.head()"
   ]
  },
  {
   "cell_type": "markdown",
   "metadata": {},
   "source": [
    "### Split into training & testing data"
   ]
  },
  {
   "cell_type": "code",
   "execution_count": 4,
   "metadata": {
    "collapsed": true
   },
   "outputs": [],
   "source": [
    "from sklearn.model_selection import train_test_split"
   ]
  },
  {
   "cell_type": "code",
   "execution_count": 5,
   "metadata": {
    "collapsed": true
   },
   "outputs": [],
   "source": [
    "# Separete the input data and the value to predict (the 'Exited' column).\n",
    "# By convention: X is the input data and Y is the value to predict.\n",
    "x_data = df.drop(['Exited'],axis=1)\n",
    "y_val = df['Exited']"
   ]
  },
  {
   "cell_type": "code",
   "execution_count": 6,
   "metadata": {
    "collapsed": true
   },
   "outputs": [],
   "source": [
    "# Separate the dataset in two parts:\n",
    "# 70% of the data will be used for training the model\n",
    "# 30% to test it\n",
    "X_train, X_test, y_train, y_test = train_test_split(x_data,y_val,test_size=0.3,random_state=101)"
   ]
  },
  {
   "cell_type": "code",
   "execution_count": 7,
   "metadata": {},
   "outputs": [
    {
     "data": {
      "text/html": [
       "<div>\n",
       "<style>\n",
       "    .dataframe thead tr:only-child th {\n",
       "        text-align: right;\n",
       "    }\n",
       "\n",
       "    .dataframe thead th {\n",
       "        text-align: left;\n",
       "    }\n",
       "\n",
       "    .dataframe tbody tr th {\n",
       "        vertical-align: top;\n",
       "    }\n",
       "</style>\n",
       "<table border=\"1\" class=\"dataframe\">\n",
       "  <thead>\n",
       "    <tr style=\"text-align: right;\">\n",
       "      <th></th>\n",
       "      <th>RowNumber</th>\n",
       "      <th>CustomerId</th>\n",
       "      <th>CreditScore</th>\n",
       "      <th>Age</th>\n",
       "      <th>Tenure</th>\n",
       "      <th>Balance</th>\n",
       "      <th>NumOfProducts</th>\n",
       "      <th>HasCrCard</th>\n",
       "      <th>IsActiveMember</th>\n",
       "      <th>EstimatedSalary</th>\n",
       "    </tr>\n",
       "  </thead>\n",
       "  <tbody>\n",
       "    <tr>\n",
       "      <th>count</th>\n",
       "      <td>7000.000000</td>\n",
       "      <td>7.000000e+03</td>\n",
       "      <td>7000.000000</td>\n",
       "      <td>7000.000000</td>\n",
       "      <td>7000.000000</td>\n",
       "      <td>7000.000000</td>\n",
       "      <td>7000.000000</td>\n",
       "      <td>7000.000000</td>\n",
       "      <td>7000.000000</td>\n",
       "      <td>7000.000000</td>\n",
       "    </tr>\n",
       "    <tr>\n",
       "      <th>mean</th>\n",
       "      <td>5012.097857</td>\n",
       "      <td>1.569127e+07</td>\n",
       "      <td>651.217857</td>\n",
       "      <td>38.766714</td>\n",
       "      <td>5.010714</td>\n",
       "      <td>77146.268254</td>\n",
       "      <td>1.527857</td>\n",
       "      <td>0.709000</td>\n",
       "      <td>0.510429</td>\n",
       "      <td>100066.450221</td>\n",
       "    </tr>\n",
       "    <tr>\n",
       "      <th>std</th>\n",
       "      <td>2885.513274</td>\n",
       "      <td>7.179397e+04</td>\n",
       "      <td>96.670607</td>\n",
       "      <td>10.484941</td>\n",
       "      <td>2.897550</td>\n",
       "      <td>62317.167188</td>\n",
       "      <td>0.582961</td>\n",
       "      <td>0.454256</td>\n",
       "      <td>0.499927</td>\n",
       "      <td>57764.876058</td>\n",
       "    </tr>\n",
       "    <tr>\n",
       "      <th>min</th>\n",
       "      <td>1.000000</td>\n",
       "      <td>1.556571e+07</td>\n",
       "      <td>350.000000</td>\n",
       "      <td>18.000000</td>\n",
       "      <td>0.000000</td>\n",
       "      <td>0.000000</td>\n",
       "      <td>1.000000</td>\n",
       "      <td>0.000000</td>\n",
       "      <td>0.000000</td>\n",
       "      <td>11.580000</td>\n",
       "    </tr>\n",
       "    <tr>\n",
       "      <th>25%</th>\n",
       "      <td>2529.750000</td>\n",
       "      <td>1.562869e+07</td>\n",
       "      <td>584.000000</td>\n",
       "      <td>32.000000</td>\n",
       "      <td>2.000000</td>\n",
       "      <td>0.000000</td>\n",
       "      <td>1.000000</td>\n",
       "      <td>0.000000</td>\n",
       "      <td>0.000000</td>\n",
       "      <td>50910.677500</td>\n",
       "    </tr>\n",
       "    <tr>\n",
       "      <th>50%</th>\n",
       "      <td>5008.500000</td>\n",
       "      <td>1.569176e+07</td>\n",
       "      <td>652.000000</td>\n",
       "      <td>37.000000</td>\n",
       "      <td>5.000000</td>\n",
       "      <td>97572.740000</td>\n",
       "      <td>1.000000</td>\n",
       "      <td>1.000000</td>\n",
       "      <td>1.000000</td>\n",
       "      <td>100600.355000</td>\n",
       "    </tr>\n",
       "    <tr>\n",
       "      <th>75%</th>\n",
       "      <td>7513.250000</td>\n",
       "      <td>1.575336e+07</td>\n",
       "      <td>719.000000</td>\n",
       "      <td>44.000000</td>\n",
       "      <td>8.000000</td>\n",
       "      <td>127894.435000</td>\n",
       "      <td>2.000000</td>\n",
       "      <td>1.000000</td>\n",
       "      <td>1.000000</td>\n",
       "      <td>149539.850000</td>\n",
       "    </tr>\n",
       "    <tr>\n",
       "      <th>max</th>\n",
       "      <td>10000.000000</td>\n",
       "      <td>1.581569e+07</td>\n",
       "      <td>850.000000</td>\n",
       "      <td>92.000000</td>\n",
       "      <td>10.000000</td>\n",
       "      <td>250898.090000</td>\n",
       "      <td>4.000000</td>\n",
       "      <td>1.000000</td>\n",
       "      <td>1.000000</td>\n",
       "      <td>199970.740000</td>\n",
       "    </tr>\n",
       "  </tbody>\n",
       "</table>\n",
       "</div>"
      ],
      "text/plain": [
       "          RowNumber    CustomerId  CreditScore          Age       Tenure  \\\n",
       "count   7000.000000  7.000000e+03  7000.000000  7000.000000  7000.000000   \n",
       "mean    5012.097857  1.569127e+07   651.217857    38.766714     5.010714   \n",
       "std     2885.513274  7.179397e+04    96.670607    10.484941     2.897550   \n",
       "min        1.000000  1.556571e+07   350.000000    18.000000     0.000000   \n",
       "25%     2529.750000  1.562869e+07   584.000000    32.000000     2.000000   \n",
       "50%     5008.500000  1.569176e+07   652.000000    37.000000     5.000000   \n",
       "75%     7513.250000  1.575336e+07   719.000000    44.000000     8.000000   \n",
       "max    10000.000000  1.581569e+07   850.000000    92.000000    10.000000   \n",
       "\n",
       "             Balance  NumOfProducts    HasCrCard  IsActiveMember  \\\n",
       "count    7000.000000    7000.000000  7000.000000     7000.000000   \n",
       "mean    77146.268254       1.527857     0.709000        0.510429   \n",
       "std     62317.167188       0.582961     0.454256        0.499927   \n",
       "min         0.000000       1.000000     0.000000        0.000000   \n",
       "25%         0.000000       1.000000     0.000000        0.000000   \n",
       "50%     97572.740000       1.000000     1.000000        1.000000   \n",
       "75%    127894.435000       2.000000     1.000000        1.000000   \n",
       "max    250898.090000       4.000000     1.000000        1.000000   \n",
       "\n",
       "       EstimatedSalary  \n",
       "count      7000.000000  \n",
       "mean     100066.450221  \n",
       "std       57764.876058  \n",
       "min          11.580000  \n",
       "25%       50910.677500  \n",
       "50%      100600.355000  \n",
       "75%      149539.850000  \n",
       "max      199970.740000  "
      ]
     },
     "execution_count": 7,
     "metadata": {},
     "output_type": "execute_result"
    }
   ],
   "source": [
    "X_train.describe()"
   ]
  },
  {
   "cell_type": "markdown",
   "metadata": {},
   "source": [
    "### Scale the data"
   ]
  },
  {
   "cell_type": "code",
   "execution_count": 8,
   "metadata": {
    "collapsed": true
   },
   "outputs": [],
   "source": [
    "cols_to_scale=['CreditScore','Tenure','Balance','NumOfProducts','EstimatedSalary']"
   ]
  },
  {
   "cell_type": "code",
   "execution_count": 9,
   "metadata": {
    "collapsed": true
   },
   "outputs": [],
   "source": [
    "# Get around a bug in Sklearn / Pandas communication\n",
    "# see https://stackoverflow.com/questions/45090639/pandas-shows-settingwithcopywarning-after-train-test-split\n",
    "X_train.is_copy=None\n",
    "X_test.is_copy=None"
   ]
  },
  {
   "cell_type": "code",
   "execution_count": 10,
   "metadata": {},
   "outputs": [
    {
     "data": {
      "text/html": [
       "<div>\n",
       "<style>\n",
       "    .dataframe thead tr:only-child th {\n",
       "        text-align: right;\n",
       "    }\n",
       "\n",
       "    .dataframe thead th {\n",
       "        text-align: left;\n",
       "    }\n",
       "\n",
       "    .dataframe tbody tr th {\n",
       "        vertical-align: top;\n",
       "    }\n",
       "</style>\n",
       "<table border=\"1\" class=\"dataframe\">\n",
       "  <thead>\n",
       "    <tr style=\"text-align: right;\">\n",
       "      <th></th>\n",
       "      <th>RowNumber</th>\n",
       "      <th>CustomerId</th>\n",
       "      <th>Surname</th>\n",
       "      <th>CreditScore</th>\n",
       "      <th>Geography</th>\n",
       "      <th>Gender</th>\n",
       "      <th>Age</th>\n",
       "      <th>Tenure</th>\n",
       "      <th>Balance</th>\n",
       "      <th>NumOfProducts</th>\n",
       "      <th>HasCrCard</th>\n",
       "      <th>IsActiveMember</th>\n",
       "      <th>EstimatedSalary</th>\n",
       "    </tr>\n",
       "  </thead>\n",
       "  <tbody>\n",
       "    <tr>\n",
       "      <th>803</th>\n",
       "      <td>804</td>\n",
       "      <td>15712825</td>\n",
       "      <td>Howells</td>\n",
       "      <td>511</td>\n",
       "      <td>Spain</td>\n",
       "      <td>Female</td>\n",
       "      <td>29</td>\n",
       "      <td>9</td>\n",
       "      <td>0.0</td>\n",
       "      <td>2</td>\n",
       "      <td>0</td>\n",
       "      <td>1</td>\n",
       "      <td>140676.98</td>\n",
       "    </tr>\n",
       "    <tr>\n",
       "      <th>1387</th>\n",
       "      <td>1388</td>\n",
       "      <td>15674526</td>\n",
       "      <td>Byrne</td>\n",
       "      <td>725</td>\n",
       "      <td>France</td>\n",
       "      <td>Male</td>\n",
       "      <td>66</td>\n",
       "      <td>4</td>\n",
       "      <td>86459.8</td>\n",
       "      <td>1</td>\n",
       "      <td>1</td>\n",
       "      <td>1</td>\n",
       "      <td>141476.56</td>\n",
       "    </tr>\n",
       "    <tr>\n",
       "      <th>921</th>\n",
       "      <td>922</td>\n",
       "      <td>15743411</td>\n",
       "      <td>Chiawuotu</td>\n",
       "      <td>609</td>\n",
       "      <td>Spain</td>\n",
       "      <td>Male</td>\n",
       "      <td>61</td>\n",
       "      <td>1</td>\n",
       "      <td>0.0</td>\n",
       "      <td>1</td>\n",
       "      <td>1</td>\n",
       "      <td>0</td>\n",
       "      <td>22447.85</td>\n",
       "    </tr>\n",
       "    <tr>\n",
       "      <th>5917</th>\n",
       "      <td>5918</td>\n",
       "      <td>15812184</td>\n",
       "      <td>Rose</td>\n",
       "      <td>674</td>\n",
       "      <td>France</td>\n",
       "      <td>Female</td>\n",
       "      <td>31</td>\n",
       "      <td>1</td>\n",
       "      <td>0.0</td>\n",
       "      <td>1</td>\n",
       "      <td>1</td>\n",
       "      <td>0</td>\n",
       "      <td>128954.05</td>\n",
       "    </tr>\n",
       "    <tr>\n",
       "      <th>9610</th>\n",
       "      <td>9611</td>\n",
       "      <td>15812534</td>\n",
       "      <td>Chiemenam</td>\n",
       "      <td>455</td>\n",
       "      <td>France</td>\n",
       "      <td>Male</td>\n",
       "      <td>40</td>\n",
       "      <td>1</td>\n",
       "      <td>0.0</td>\n",
       "      <td>3</td>\n",
       "      <td>0</td>\n",
       "      <td>1</td>\n",
       "      <td>129975.34</td>\n",
       "    </tr>\n",
       "  </tbody>\n",
       "</table>\n",
       "</div>"
      ],
      "text/plain": [
       "      RowNumber  CustomerId    Surname  CreditScore Geography  Gender  Age  \\\n",
       "803         804    15712825    Howells          511     Spain  Female   29   \n",
       "1387       1388    15674526      Byrne          725    France    Male   66   \n",
       "921         922    15743411  Chiawuotu          609     Spain    Male   61   \n",
       "5917       5918    15812184       Rose          674    France  Female   31   \n",
       "9610       9611    15812534  Chiemenam          455    France    Male   40   \n",
       "\n",
       "      Tenure  Balance  NumOfProducts  HasCrCard  IsActiveMember  \\\n",
       "803        9      0.0              2          0               1   \n",
       "1387       4  86459.8              1          1               1   \n",
       "921        1      0.0              1          1               0   \n",
       "5917       1      0.0              1          1               0   \n",
       "9610       1      0.0              3          0               1   \n",
       "\n",
       "      EstimatedSalary  \n",
       "803         140676.98  \n",
       "1387        141476.56  \n",
       "921          22447.85  \n",
       "5917        128954.05  \n",
       "9610        129975.34  "
      ]
     },
     "execution_count": 10,
     "metadata": {},
     "output_type": "execute_result"
    }
   ],
   "source": [
    "X_train.head()"
   ]
  },
  {
   "cell_type": "code",
   "execution_count": 11,
   "metadata": {},
   "outputs": [],
   "source": [
    "for col in cols_to_scale:\n",
    "    xmin=X_train[[col]].min().values[0]\n",
    "    dx=X_train[col].max()-xmin\n",
    "    X_train[[col]] = X_train[[col]].apply(lambda x: ((x - xmin) / dx))\n",
    "    X_test[[col]] = X_test[[col]].apply(lambda x: ((x - xmin) / dx))"
   ]
  },
  {
   "cell_type": "code",
   "execution_count": 12,
   "metadata": {},
   "outputs": [
    {
     "data": {
      "text/html": [
       "<div>\n",
       "<style>\n",
       "    .dataframe thead tr:only-child th {\n",
       "        text-align: right;\n",
       "    }\n",
       "\n",
       "    .dataframe thead th {\n",
       "        text-align: left;\n",
       "    }\n",
       "\n",
       "    .dataframe tbody tr th {\n",
       "        vertical-align: top;\n",
       "    }\n",
       "</style>\n",
       "<table border=\"1\" class=\"dataframe\">\n",
       "  <thead>\n",
       "    <tr style=\"text-align: right;\">\n",
       "      <th></th>\n",
       "      <th>RowNumber</th>\n",
       "      <th>CustomerId</th>\n",
       "      <th>Surname</th>\n",
       "      <th>CreditScore</th>\n",
       "      <th>Geography</th>\n",
       "      <th>Gender</th>\n",
       "      <th>Age</th>\n",
       "      <th>Tenure</th>\n",
       "      <th>Balance</th>\n",
       "      <th>NumOfProducts</th>\n",
       "      <th>HasCrCard</th>\n",
       "      <th>IsActiveMember</th>\n",
       "      <th>EstimatedSalary</th>\n",
       "    </tr>\n",
       "  </thead>\n",
       "  <tbody>\n",
       "    <tr>\n",
       "      <th>803</th>\n",
       "      <td>804</td>\n",
       "      <td>15712825</td>\n",
       "      <td>Howells</td>\n",
       "      <td>0.322</td>\n",
       "      <td>Spain</td>\n",
       "      <td>Female</td>\n",
       "      <td>29</td>\n",
       "      <td>0.9</td>\n",
       "      <td>0.000000</td>\n",
       "      <td>0.333333</td>\n",
       "      <td>0</td>\n",
       "      <td>1</td>\n",
       "      <td>0.703471</td>\n",
       "    </tr>\n",
       "    <tr>\n",
       "      <th>1387</th>\n",
       "      <td>1388</td>\n",
       "      <td>15674526</td>\n",
       "      <td>Byrne</td>\n",
       "      <td>0.750</td>\n",
       "      <td>France</td>\n",
       "      <td>Male</td>\n",
       "      <td>66</td>\n",
       "      <td>0.4</td>\n",
       "      <td>0.344601</td>\n",
       "      <td>0.000000</td>\n",
       "      <td>1</td>\n",
       "      <td>1</td>\n",
       "      <td>0.707469</td>\n",
       "    </tr>\n",
       "    <tr>\n",
       "      <th>921</th>\n",
       "      <td>922</td>\n",
       "      <td>15743411</td>\n",
       "      <td>Chiawuotu</td>\n",
       "      <td>0.518</td>\n",
       "      <td>Spain</td>\n",
       "      <td>Male</td>\n",
       "      <td>61</td>\n",
       "      <td>0.1</td>\n",
       "      <td>0.000000</td>\n",
       "      <td>0.000000</td>\n",
       "      <td>1</td>\n",
       "      <td>0</td>\n",
       "      <td>0.112204</td>\n",
       "    </tr>\n",
       "    <tr>\n",
       "      <th>5917</th>\n",
       "      <td>5918</td>\n",
       "      <td>15812184</td>\n",
       "      <td>Rose</td>\n",
       "      <td>0.648</td>\n",
       "      <td>France</td>\n",
       "      <td>Female</td>\n",
       "      <td>31</td>\n",
       "      <td>0.1</td>\n",
       "      <td>0.000000</td>\n",
       "      <td>0.000000</td>\n",
       "      <td>1</td>\n",
       "      <td>0</td>\n",
       "      <td>0.644844</td>\n",
       "    </tr>\n",
       "    <tr>\n",
       "      <th>9610</th>\n",
       "      <td>9611</td>\n",
       "      <td>15812534</td>\n",
       "      <td>Chiemenam</td>\n",
       "      <td>0.210</td>\n",
       "      <td>France</td>\n",
       "      <td>Male</td>\n",
       "      <td>40</td>\n",
       "      <td>0.1</td>\n",
       "      <td>0.000000</td>\n",
       "      <td>0.666667</td>\n",
       "      <td>0</td>\n",
       "      <td>1</td>\n",
       "      <td>0.649952</td>\n",
       "    </tr>\n",
       "  </tbody>\n",
       "</table>\n",
       "</div>"
      ],
      "text/plain": [
       "      RowNumber  CustomerId    Surname  CreditScore Geography  Gender  Age  \\\n",
       "803         804    15712825    Howells        0.322     Spain  Female   29   \n",
       "1387       1388    15674526      Byrne        0.750    France    Male   66   \n",
       "921         922    15743411  Chiawuotu        0.518     Spain    Male   61   \n",
       "5917       5918    15812184       Rose        0.648    France  Female   31   \n",
       "9610       9611    15812534  Chiemenam        0.210    France    Male   40   \n",
       "\n",
       "      Tenure   Balance  NumOfProducts  HasCrCard  IsActiveMember  \\\n",
       "803      0.9  0.000000       0.333333          0               1   \n",
       "1387     0.4  0.344601       0.000000          1               1   \n",
       "921      0.1  0.000000       0.000000          1               0   \n",
       "5917     0.1  0.000000       0.000000          1               0   \n",
       "9610     0.1  0.000000       0.666667          0               1   \n",
       "\n",
       "      EstimatedSalary  \n",
       "803          0.703471  \n",
       "1387         0.707469  \n",
       "921          0.112204  \n",
       "5917         0.644844  \n",
       "9610         0.649952  "
      ]
     },
     "execution_count": 12,
     "metadata": {},
     "output_type": "execute_result"
    }
   ],
   "source": [
    "X_train.head()"
   ]
  },
  {
   "cell_type": "code",
   "execution_count": 13,
   "metadata": {},
   "outputs": [
    {
     "data": {
      "text/html": [
       "<div>\n",
       "<style>\n",
       "    .dataframe thead tr:only-child th {\n",
       "        text-align: right;\n",
       "    }\n",
       "\n",
       "    .dataframe thead th {\n",
       "        text-align: left;\n",
       "    }\n",
       "\n",
       "    .dataframe tbody tr th {\n",
       "        vertical-align: top;\n",
       "    }\n",
       "</style>\n",
       "<table border=\"1\" class=\"dataframe\">\n",
       "  <thead>\n",
       "    <tr style=\"text-align: right;\">\n",
       "      <th></th>\n",
       "      <th>RowNumber</th>\n",
       "      <th>CustomerId</th>\n",
       "      <th>CreditScore</th>\n",
       "      <th>Age</th>\n",
       "      <th>Tenure</th>\n",
       "      <th>Balance</th>\n",
       "      <th>NumOfProducts</th>\n",
       "      <th>HasCrCard</th>\n",
       "      <th>IsActiveMember</th>\n",
       "      <th>EstimatedSalary</th>\n",
       "    </tr>\n",
       "  </thead>\n",
       "  <tbody>\n",
       "    <tr>\n",
       "      <th>count</th>\n",
       "      <td>7000.000000</td>\n",
       "      <td>7.000000e+03</td>\n",
       "      <td>7000.000000</td>\n",
       "      <td>7000.000000</td>\n",
       "      <td>7000.000000</td>\n",
       "      <td>7000.000000</td>\n",
       "      <td>7000.000000</td>\n",
       "      <td>7000.000000</td>\n",
       "      <td>7000.000000</td>\n",
       "      <td>7000.000000</td>\n",
       "    </tr>\n",
       "    <tr>\n",
       "      <th>mean</th>\n",
       "      <td>5012.097857</td>\n",
       "      <td>1.569127e+07</td>\n",
       "      <td>0.602436</td>\n",
       "      <td>38.766714</td>\n",
       "      <td>0.501071</td>\n",
       "      <td>0.307480</td>\n",
       "      <td>0.175952</td>\n",
       "      <td>0.709000</td>\n",
       "      <td>0.510429</td>\n",
       "      <td>0.500377</td>\n",
       "    </tr>\n",
       "    <tr>\n",
       "      <th>std</th>\n",
       "      <td>2885.513274</td>\n",
       "      <td>7.179397e+04</td>\n",
       "      <td>0.193341</td>\n",
       "      <td>10.484941</td>\n",
       "      <td>0.289755</td>\n",
       "      <td>0.248376</td>\n",
       "      <td>0.194320</td>\n",
       "      <td>0.454256</td>\n",
       "      <td>0.499927</td>\n",
       "      <td>0.288883</td>\n",
       "    </tr>\n",
       "    <tr>\n",
       "      <th>min</th>\n",
       "      <td>1.000000</td>\n",
       "      <td>1.556571e+07</td>\n",
       "      <td>0.000000</td>\n",
       "      <td>18.000000</td>\n",
       "      <td>0.000000</td>\n",
       "      <td>0.000000</td>\n",
       "      <td>0.000000</td>\n",
       "      <td>0.000000</td>\n",
       "      <td>0.000000</td>\n",
       "      <td>0.000000</td>\n",
       "    </tr>\n",
       "    <tr>\n",
       "      <th>25%</th>\n",
       "      <td>2529.750000</td>\n",
       "      <td>1.562869e+07</td>\n",
       "      <td>0.468000</td>\n",
       "      <td>32.000000</td>\n",
       "      <td>0.200000</td>\n",
       "      <td>0.000000</td>\n",
       "      <td>0.000000</td>\n",
       "      <td>0.000000</td>\n",
       "      <td>0.000000</td>\n",
       "      <td>0.254547</td>\n",
       "    </tr>\n",
       "    <tr>\n",
       "      <th>50%</th>\n",
       "      <td>5008.500000</td>\n",
       "      <td>1.569176e+07</td>\n",
       "      <td>0.604000</td>\n",
       "      <td>37.000000</td>\n",
       "      <td>0.500000</td>\n",
       "      <td>0.388894</td>\n",
       "      <td>0.000000</td>\n",
       "      <td>1.000000</td>\n",
       "      <td>1.000000</td>\n",
       "      <td>0.503047</td>\n",
       "    </tr>\n",
       "    <tr>\n",
       "      <th>75%</th>\n",
       "      <td>7513.250000</td>\n",
       "      <td>1.575336e+07</td>\n",
       "      <td>0.738000</td>\n",
       "      <td>44.000000</td>\n",
       "      <td>0.800000</td>\n",
       "      <td>0.509747</td>\n",
       "      <td>0.333333</td>\n",
       "      <td>1.000000</td>\n",
       "      <td>1.000000</td>\n",
       "      <td>0.747794</td>\n",
       "    </tr>\n",
       "    <tr>\n",
       "      <th>max</th>\n",
       "      <td>10000.000000</td>\n",
       "      <td>1.581569e+07</td>\n",
       "      <td>1.000000</td>\n",
       "      <td>92.000000</td>\n",
       "      <td>1.000000</td>\n",
       "      <td>1.000000</td>\n",
       "      <td>1.000000</td>\n",
       "      <td>1.000000</td>\n",
       "      <td>1.000000</td>\n",
       "      <td>1.000000</td>\n",
       "    </tr>\n",
       "  </tbody>\n",
       "</table>\n",
       "</div>"
      ],
      "text/plain": [
       "          RowNumber    CustomerId  CreditScore          Age       Tenure  \\\n",
       "count   7000.000000  7.000000e+03  7000.000000  7000.000000  7000.000000   \n",
       "mean    5012.097857  1.569127e+07     0.602436    38.766714     0.501071   \n",
       "std     2885.513274  7.179397e+04     0.193341    10.484941     0.289755   \n",
       "min        1.000000  1.556571e+07     0.000000    18.000000     0.000000   \n",
       "25%     2529.750000  1.562869e+07     0.468000    32.000000     0.200000   \n",
       "50%     5008.500000  1.569176e+07     0.604000    37.000000     0.500000   \n",
       "75%     7513.250000  1.575336e+07     0.738000    44.000000     0.800000   \n",
       "max    10000.000000  1.581569e+07     1.000000    92.000000     1.000000   \n",
       "\n",
       "           Balance  NumOfProducts    HasCrCard  IsActiveMember  \\\n",
       "count  7000.000000    7000.000000  7000.000000     7000.000000   \n",
       "mean      0.307480       0.175952     0.709000        0.510429   \n",
       "std       0.248376       0.194320     0.454256        0.499927   \n",
       "min       0.000000       0.000000     0.000000        0.000000   \n",
       "25%       0.000000       0.000000     0.000000        0.000000   \n",
       "50%       0.388894       0.000000     1.000000        1.000000   \n",
       "75%       0.509747       0.333333     1.000000        1.000000   \n",
       "max       1.000000       1.000000     1.000000        1.000000   \n",
       "\n",
       "       EstimatedSalary  \n",
       "count      7000.000000  \n",
       "mean          0.500377  \n",
       "std           0.288883  \n",
       "min           0.000000  \n",
       "25%           0.254547  \n",
       "50%           0.503047  \n",
       "75%           0.747794  \n",
       "max           1.000000  "
      ]
     },
     "execution_count": 13,
     "metadata": {},
     "output_type": "execute_result"
    }
   ],
   "source": [
    "X_train.describe()"
   ]
  },
  {
   "cell_type": "markdown",
   "metadata": {},
   "source": [
    "## Create the tensorflow estimator"
   ]
  },
  {
   "cell_type": "code",
   "execution_count": 14,
   "metadata": {
    "collapsed": true
   },
   "outputs": [],
   "source": [
    "import tensorflow as tf"
   ]
  },
  {
   "cell_type": "markdown",
   "metadata": {},
   "source": [
    "### Create the 'feature columns'"
   ]
  },
  {
   "cell_type": "code",
   "execution_count": 15,
   "metadata": {},
   "outputs": [
    {
     "data": {
      "text/plain": [
       "Index(['RowNumber', 'CustomerId', 'Surname', 'CreditScore', 'Geography',\n",
       "       'Gender', 'Age', 'Tenure', 'Balance', 'NumOfProducts', 'HasCrCard',\n",
       "       'IsActiveMember', 'EstimatedSalary', 'Exited'],\n",
       "      dtype='object')"
      ]
     },
     "execution_count": 15,
     "metadata": {},
     "output_type": "execute_result"
    }
   ],
   "source": [
    "df.columns"
   ]
  },
  {
   "cell_type": "code",
   "execution_count": 16,
   "metadata": {},
   "outputs": [],
   "source": [
    "# create the numeric columns\n",
    "age = tf.feature_column.numeric_column('Age')\n",
    "creditscore = tf.feature_column.numeric_column('CreditScore')\n",
    "tenure = tf.feature_column.numeric_column('Tenure')\n",
    "balance = tf.feature_column.numeric_column('Balance')\n",
    "numproducts = tf.feature_column.numeric_column('NumOfProducts')\n",
    "hascard = tf.feature_column.numeric_column('HasCrCard')\n",
    "isactive = tf.feature_column.numeric_column('IsActiveMember')\n",
    "estimated = tf.feature_column.numeric_column('EstimatedSalary')"
   ]
  },
  {
   "cell_type": "code",
   "execution_count": 17,
   "metadata": {},
   "outputs": [],
   "source": [
    "# create categorical columns\n",
    "geography = tf.feature_column.indicator_column(tf.feature_column.categorical_column_with_vocabulary_list(key='Geography',vocabulary_list=df['Geography'].unique()))\n",
    "gender = tf.feature_column.indicator_column(tf.feature_column.categorical_column_with_vocabulary_list(key='Gender',vocabulary_list=df['Gender'].unique()))"
   ]
  },
  {
   "cell_type": "code",
   "execution_count": 61,
   "metadata": {},
   "outputs": [
    {
     "data": {
      "text/plain": [
       "<matplotlib.axes._subplots.AxesSubplot at 0x120739128>"
      ]
     },
     "execution_count": 61,
     "metadata": {},
     "output_type": "execute_result"
    },
    {
     "data": {
      "image/png": "[encoded data removed]",
      "text/plain": [
       "<matplotlib.figure.Figure at 0x1203de3c8>"
      ]
     },
     "metadata": {},
     "output_type": "display_data"
    }
   ],
   "source": [
    "X_train['Age'].hist(bins=75)"
   ]
  },
  {
   "cell_type": "code",
   "execution_count": 20,
   "metadata": {},
   "outputs": [],
   "source": [
    "# Discretize the age column \n",
    "age_b = tf.feature_column.bucketized_column(age, boundaries=[20,30,40,50,60,70,80])"
   ]
  },
  {
   "cell_type": "code",
   "execution_count": 59,
   "metadata": {
    "collapsed": true
   },
   "outputs": [],
   "source": [
    "feat_cols = [age_b,creditscore,tenure,balance,numproducts,hascard,isactive,estimated,geography,gender ]"
   ]
  },
  {
   "cell_type": "markdown",
   "metadata": {},
   "source": [
    "### Create the input function"
   ]
  },
  {
   "cell_type": "code",
   "execution_count": 23,
   "metadata": {},
   "outputs": [],
   "source": [
    "input_fn = tf.estimator.inputs.pandas_input_fn(x=X_train,y=y_train,batch_size=10,num_epochs=1000,shuffle=True)"
   ]
  },
  {
   "cell_type": "markdown",
   "metadata": {},
   "source": [
    "### Create the estimator and train it"
   ]
  },
  {
   "cell_type": "code",
   "execution_count": 24,
   "metadata": {},
   "outputs": [
    {
     "name": "stdout",
     "output_type": "stream",
     "text": [
      "INFO:tensorflow:Using default config.\n",
      "WARNING:tensorflow:Using temporary folder as model directory: /var/folders/2c/gpl2fhbx4kgft314vh0y0qq80000gn/T/tmpkr2dtr3x\n",
      "INFO:tensorflow:Using config: {'_tf_random_seed': 1, '_session_config': None, '_save_summary_steps': 100, '_keep_checkpoint_every_n_hours': 10000, '_keep_checkpoint_max': 5, '_log_step_count_steps': 100, '_save_checkpoints_secs': 600, '_save_checkpoints_steps': None, '_model_dir': '/var/folders/2c/gpl2fhbx4kgft314vh0y0qq80000gn/T/tmpkr2dtr3x'}\n"
     ]
    }
   ],
   "source": [
    "model = tf.estimator.DNNClassifier(hidden_units=[10,10,10],feature_columns=feat_cols,n_classes=2)"
   ]
  },
  {
   "cell_type": "code",
   "execution_count": 25,
   "metadata": {},
   "outputs": [
    {
     "name": "stdout",
     "output_type": "stream",
     "text": [
      "INFO:tensorflow:Create CheckpointSaverHook.\n",
      "INFO:tensorflow:Saving checkpoints for 1 into /var/folders/2c/gpl2fhbx4kgft314vh0y0qq80000gn/T/tmpkr2dtr3x/model.ckpt.\n",
      "INFO:tensorflow:step = 1, loss = 7.52619\n",
      "INFO:tensorflow:global_step/sec: 199.068\n",
      "INFO:tensorflow:step = 101, loss = 3.53135 (0.503 sec)\n",
      "INFO:tensorflow:global_step/sec: 208.127\n",
      "INFO:tensorflow:step = 201, loss = 4.99815 (0.486 sec)\n",
      "INFO:tensorflow:global_step/sec: 221.416\n",
      "INFO:tensorflow:step = 301, loss = 5.73631 (0.453 sec)\n",
      "INFO:tensorflow:global_step/sec: 214.03\n",
      "INFO:tensorflow:step = 401, loss = 2.91623 (0.460 sec)\n",
      "INFO:tensorflow:global_step/sec: 217.567\n",
      "INFO:tensorflow:step = 501, loss = 3.50165 (0.468 sec)\n",
      "INFO:tensorflow:global_step/sec: 202.425\n",
      "INFO:tensorflow:step = 601, loss = 2.10776 (0.486 sec)\n",
      "INFO:tensorflow:global_step/sec: 206.411\n",
      "INFO:tensorflow:step = 701, loss = 4.55839 (0.484 sec)\n",
      "INFO:tensorflow:global_step/sec: 211.53\n",
      "INFO:tensorflow:step = 801, loss = 10.44 (0.480 sec)\n",
      "INFO:tensorflow:global_step/sec: 182.048\n",
      "INFO:tensorflow:step = 901, loss = 3.14472 (0.552 sec)\n",
      "INFO:tensorflow:global_step/sec: 90.8987\n",
      "INFO:tensorflow:step = 1001, loss = 5.9068 (1.114 sec)\n",
      "INFO:tensorflow:global_step/sec: 148.382\n",
      "INFO:tensorflow:step = 1101, loss = 6.08431 (0.666 sec)\n",
      "INFO:tensorflow:global_step/sec: 209.353\n",
      "INFO:tensorflow:step = 1201, loss = 5.37889 (0.469 sec)\n",
      "INFO:tensorflow:global_step/sec: 104.654\n",
      "INFO:tensorflow:step = 1301, loss = 1.5337 (0.953 sec)\n",
      "INFO:tensorflow:global_step/sec: 234.904\n",
      "INFO:tensorflow:step = 1401, loss = 6.04451 (0.428 sec)\n",
      "INFO:tensorflow:global_step/sec: 202.753\n",
      "INFO:tensorflow:step = 1501, loss = 5.39214 (0.494 sec)\n",
      "INFO:tensorflow:global_step/sec: 223.707\n",
      "INFO:tensorflow:step = 1601, loss = 1.49635 (0.456 sec)\n",
      "INFO:tensorflow:global_step/sec: 213.489\n",
      "INFO:tensorflow:step = 1701, loss = 4.83901 (0.458 sec)\n",
      "INFO:tensorflow:global_step/sec: 216.462\n",
      "INFO:tensorflow:step = 1801, loss = 4.94705 (0.455 sec)\n",
      "INFO:tensorflow:global_step/sec: 209.38\n",
      "INFO:tensorflow:step = 1901, loss = 1.78009 (0.481 sec)\n",
      "INFO:tensorflow:global_step/sec: 98.3353\n",
      "INFO:tensorflow:step = 2001, loss = 2.49248 (1.020 sec)\n",
      "INFO:tensorflow:global_step/sec: 206.44\n",
      "INFO:tensorflow:step = 2101, loss = 4.39441 (0.484 sec)\n",
      "INFO:tensorflow:global_step/sec: 166.25\n",
      "INFO:tensorflow:step = 2201, loss = 3.41442 (0.602 sec)\n",
      "INFO:tensorflow:global_step/sec: 98.4243\n",
      "INFO:tensorflow:step = 2301, loss = 3.31223 (1.040 sec)\n",
      "INFO:tensorflow:global_step/sec: 93.2008\n",
      "INFO:tensorflow:step = 2401, loss = 1.6931 (1.064 sec)\n",
      "INFO:tensorflow:global_step/sec: 109.03\n",
      "INFO:tensorflow:step = 2501, loss = 4.68875 (0.902 sec)\n",
      "INFO:tensorflow:global_step/sec: 203.975\n",
      "INFO:tensorflow:step = 2601, loss = 4.16738 (0.495 sec)\n",
      "INFO:tensorflow:global_step/sec: 163.497\n",
      "INFO:tensorflow:step = 2701, loss = 2.41643 (0.604 sec)\n",
      "INFO:tensorflow:global_step/sec: 124.877\n",
      "INFO:tensorflow:step = 2801, loss = 2.01985 (0.804 sec)\n",
      "INFO:tensorflow:global_step/sec: 197.031\n",
      "INFO:tensorflow:step = 2901, loss = 2.83316 (0.532 sec)\n",
      "INFO:tensorflow:global_step/sec: 193.205\n",
      "INFO:tensorflow:step = 3001, loss = 4.1669 (0.494 sec)\n",
      "INFO:tensorflow:global_step/sec: 240.405\n",
      "INFO:tensorflow:step = 3101, loss = 2.42408 (0.414 sec)\n",
      "INFO:tensorflow:global_step/sec: 189.344\n",
      "INFO:tensorflow:step = 3201, loss = 4.31761 (0.539 sec)\n",
      "INFO:tensorflow:global_step/sec: 191.282\n",
      "INFO:tensorflow:step = 3301, loss = 4.75763 (0.514 sec)\n",
      "INFO:tensorflow:global_step/sec: 205.63\n",
      "INFO:tensorflow:step = 3401, loss = 3.1058 (0.484 sec)\n",
      "INFO:tensorflow:global_step/sec: 85.8378\n",
      "INFO:tensorflow:step = 3501, loss = 3.58131 (1.174 sec)\n",
      "INFO:tensorflow:global_step/sec: 109.73\n",
      "INFO:tensorflow:step = 3601, loss = 4.38595 (0.900 sec)\n",
      "INFO:tensorflow:global_step/sec: 169.286\n",
      "INFO:tensorflow:step = 3701, loss = 5.73977 (0.593 sec)\n",
      "INFO:tensorflow:global_step/sec: 133.698\n",
      "INFO:tensorflow:step = 3801, loss = 5.35882 (0.748 sec)\n",
      "INFO:tensorflow:global_step/sec: 151.607\n",
      "INFO:tensorflow:step = 3901, loss = 1.95724 (0.663 sec)\n",
      "INFO:tensorflow:global_step/sec: 248.645\n",
      "INFO:tensorflow:step = 4001, loss = 3.27979 (0.402 sec)\n",
      "INFO:tensorflow:global_step/sec: 230.644\n",
      "INFO:tensorflow:step = 4101, loss = 3.08193 (0.430 sec)\n",
      "INFO:tensorflow:global_step/sec: 263.696\n",
      "INFO:tensorflow:step = 4201, loss = 6.35438 (0.379 sec)\n",
      "INFO:tensorflow:global_step/sec: 203.774\n",
      "INFO:tensorflow:step = 4301, loss = 2.72526 (0.491 sec)\n",
      "INFO:tensorflow:global_step/sec: 210.736\n",
      "INFO:tensorflow:step = 4401, loss = 5.51057 (0.475 sec)\n",
      "INFO:tensorflow:global_step/sec: 213.061\n",
      "INFO:tensorflow:step = 4501, loss = 2.98756 (0.469 sec)\n",
      "INFO:tensorflow:global_step/sec: 259.315\n",
      "INFO:tensorflow:step = 4601, loss = 5.00659 (0.379 sec)\n",
      "INFO:tensorflow:global_step/sec: 206.191\n",
      "INFO:tensorflow:step = 4701, loss = 4.23621 (0.494 sec)\n",
      "INFO:tensorflow:global_step/sec: 103.325\n",
      "INFO:tensorflow:step = 4801, loss = 0.972057 (0.967 sec)\n",
      "INFO:tensorflow:global_step/sec: 209.397\n",
      "INFO:tensorflow:step = 4901, loss = 1.90621 (0.482 sec)\n",
      "INFO:tensorflow:global_step/sec: 130.351\n",
      "INFO:tensorflow:step = 5001, loss = 3.71337 (0.762 sec)\n",
      "INFO:tensorflow:global_step/sec: 160.382\n",
      "INFO:tensorflow:step = 5101, loss = 3.44231 (0.624 sec)\n",
      "INFO:tensorflow:global_step/sec: 155.357\n",
      "INFO:tensorflow:step = 5201, loss = 4.89045 (0.646 sec)\n",
      "INFO:tensorflow:global_step/sec: 226.107\n",
      "INFO:tensorflow:step = 5301, loss = 3.72386 (0.437 sec)\n",
      "INFO:tensorflow:global_step/sec: 158.757\n",
      "INFO:tensorflow:step = 5401, loss = 6.21465 (0.630 sec)\n",
      "INFO:tensorflow:global_step/sec: 209.832\n",
      "INFO:tensorflow:step = 5501, loss = 1.06774 (0.480 sec)\n",
      "INFO:tensorflow:global_step/sec: 135.746\n",
      "INFO:tensorflow:step = 5601, loss = 2.01009 (0.737 sec)\n",
      "INFO:tensorflow:global_step/sec: 199.73\n",
      "INFO:tensorflow:step = 5701, loss = 1.99696 (0.503 sec)\n",
      "INFO:tensorflow:global_step/sec: 124.939\n",
      "INFO:tensorflow:step = 5801, loss = 1.43537 (0.853 sec)\n",
      "INFO:tensorflow:global_step/sec: 168.701\n",
      "INFO:tensorflow:step = 5901, loss = 3.28971 (0.535 sec)\n",
      "INFO:tensorflow:global_step/sec: 129.706\n",
      "INFO:tensorflow:step = 6001, loss = 1.67699 (0.768 sec)\n",
      "INFO:tensorflow:global_step/sec: 219.145\n",
      "INFO:tensorflow:step = 6101, loss = 1.48224 (0.453 sec)\n",
      "INFO:tensorflow:global_step/sec: 144.417\n",
      "INFO:tensorflow:step = 6201, loss = 3.42319 (0.698 sec)\n",
      "INFO:tensorflow:global_step/sec: 155.093\n",
      "INFO:tensorflow:step = 6301, loss = 5.33091 (0.650 sec)\n",
      "INFO:tensorflow:global_step/sec: 206.427\n",
      "INFO:tensorflow:step = 6401, loss = 3.072 (0.478 sec)\n",
      "INFO:tensorflow:global_step/sec: 206.266\n",
      "INFO:tensorflow:step = 6501, loss = 3.37046 (0.490 sec)\n",
      "INFO:tensorflow:global_step/sec: 160.446\n",
      "INFO:tensorflow:step = 6601, loss = 3.34797 (0.614 sec)\n",
      "INFO:tensorflow:global_step/sec: 153.244\n",
      "INFO:tensorflow:step = 6701, loss = 3.16037 (0.675 sec)\n",
      "INFO:tensorflow:global_step/sec: 171.874\n",
      "INFO:tensorflow:step = 6801, loss = 7.92294 (0.561 sec)\n",
      "INFO:tensorflow:global_step/sec: 134.067\n",
      "INFO:tensorflow:step = 6901, loss = 6.2142 (0.751 sec)\n",
      "INFO:tensorflow:global_step/sec: 199.322\n",
      "INFO:tensorflow:step = 7001, loss = 3.87034 (0.498 sec)\n",
      "INFO:tensorflow:global_step/sec: 82.6954\n",
      "INFO:tensorflow:step = 7101, loss = 3.99958 (1.233 sec)\n",
      "INFO:tensorflow:global_step/sec: 88.1047\n",
      "INFO:tensorflow:step = 7201, loss = 0.677179 (1.111 sec)\n",
      "INFO:tensorflow:global_step/sec: 198.428\n",
      "INFO:tensorflow:step = 7301, loss = 1.03837 (0.507 sec)\n",
      "INFO:tensorflow:global_step/sec: 142.388\n",
      "INFO:tensorflow:step = 7401, loss = 2.56275 (0.701 sec)\n",
      "INFO:tensorflow:global_step/sec: 100.608\n",
      "INFO:tensorflow:step = 7501, loss = 4.47668 (0.995 sec)\n",
      "INFO:tensorflow:global_step/sec: 199.89\n",
      "INFO:tensorflow:step = 7601, loss = 3.60517 (0.504 sec)\n",
      "INFO:tensorflow:global_step/sec: 299.063\n",
      "INFO:tensorflow:step = 7701, loss = 4.13641 (0.329 sec)\n",
      "INFO:tensorflow:global_step/sec: 169.25\n",
      "INFO:tensorflow:step = 7801, loss = 5.63735 (0.594 sec)\n",
      "INFO:tensorflow:global_step/sec: 146.496\n",
      "INFO:tensorflow:step = 7901, loss = 2.27788 (0.699 sec)\n",
      "INFO:tensorflow:global_step/sec: 142.164\n",
      "INFO:tensorflow:step = 8001, loss = 6.05565 (0.691 sec)\n",
      "INFO:tensorflow:global_step/sec: 173.29\n",
      "INFO:tensorflow:step = 8101, loss = 3.26921 (0.568 sec)\n",
      "INFO:tensorflow:global_step/sec: 175.294\n",
      "INFO:tensorflow:step = 8201, loss = 3.08124 (0.578 sec)\n",
      "INFO:tensorflow:global_step/sec: 159.997\n",
      "INFO:tensorflow:step = 8301, loss = 1.75604 (0.622 sec)\n"
     ]
    },
    {
     "name": "stdout",
     "output_type": "stream",
     "text": [
      "INFO:tensorflow:global_step/sec: 171.484\n",
      "INFO:tensorflow:step = 8401, loss = 1.74561 (0.580 sec)\n",
      "INFO:tensorflow:global_step/sec: 195.409\n",
      "INFO:tensorflow:step = 8501, loss = 5.77359 (0.522 sec)\n",
      "INFO:tensorflow:global_step/sec: 252.786\n",
      "INFO:tensorflow:step = 8601, loss = 4.416 (0.387 sec)\n",
      "INFO:tensorflow:global_step/sec: 233.304\n",
      "INFO:tensorflow:step = 8701, loss = 1.75111 (0.428 sec)\n",
      "INFO:tensorflow:global_step/sec: 223.013\n",
      "INFO:tensorflow:step = 8801, loss = 1.42108 (0.444 sec)\n",
      "INFO:tensorflow:global_step/sec: 177.213\n",
      "INFO:tensorflow:step = 8901, loss = 3.94114 (0.564 sec)\n",
      "INFO:tensorflow:global_step/sec: 183.595\n",
      "INFO:tensorflow:step = 9001, loss = 4.51312 (0.545 sec)\n",
      "INFO:tensorflow:global_step/sec: 137.34\n",
      "INFO:tensorflow:step = 9101, loss = 2.09563 (0.742 sec)\n",
      "INFO:tensorflow:global_step/sec: 178.498\n",
      "INFO:tensorflow:step = 9201, loss = 1.9931 (0.555 sec)\n",
      "INFO:tensorflow:global_step/sec: 265.043\n",
      "INFO:tensorflow:step = 9301, loss = 3.07669 (0.374 sec)\n",
      "INFO:tensorflow:global_step/sec: 261.69\n",
      "INFO:tensorflow:step = 9401, loss = 0.669388 (0.382 sec)\n",
      "INFO:tensorflow:global_step/sec: 186.191\n",
      "INFO:tensorflow:step = 9501, loss = 4.7599 (0.534 sec)\n",
      "INFO:tensorflow:global_step/sec: 234.346\n",
      "INFO:tensorflow:step = 9601, loss = 2.44518 (0.431 sec)\n",
      "INFO:tensorflow:global_step/sec: 230.173\n",
      "INFO:tensorflow:step = 9701, loss = 2.08422 (0.431 sec)\n",
      "INFO:tensorflow:global_step/sec: 212.742\n",
      "INFO:tensorflow:step = 9801, loss = 2.89811 (0.466 sec)\n",
      "INFO:tensorflow:global_step/sec: 140.391\n",
      "INFO:tensorflow:step = 9901, loss = 1.81302 (0.726 sec)\n",
      "INFO:tensorflow:Saving checkpoints for 10000 into /var/folders/2c/gpl2fhbx4kgft314vh0y0qq80000gn/T/tmpkr2dtr3x/model.ckpt.\n",
      "INFO:tensorflow:Loss for final step: 7.16824.\n"
     ]
    },
    {
     "data": {
      "text/plain": [
       "<tensorflow.python.estimator.canned.dnn.DNNClassifier at 0x11f7ff080>"
      ]
     },
     "execution_count": 25,
     "metadata": {},
     "output_type": "execute_result"
    }
   ],
   "source": [
    "model.train(input_fn=input_fn,steps=10000)"
   ]
  },
  {
   "cell_type": "markdown",
   "metadata": {},
   "source": [
    "### Evaluate our estimator"
   ]
  },
  {
   "cell_type": "code",
   "execution_count": 26,
   "metadata": {
    "collapsed": true
   },
   "outputs": [],
   "source": [
    "pred_input_func = tf.estimator.inputs.pandas_input_fn(\n",
    "      x=X_test,\n",
    "      num_epochs=1,\n",
    "      shuffle=False)"
   ]
  },
  {
   "cell_type": "code",
   "execution_count": 27,
   "metadata": {},
   "outputs": [
    {
     "name": "stdout",
     "output_type": "stream",
     "text": [
      "INFO:tensorflow:Restoring parameters from /var/folders/2c/gpl2fhbx4kgft314vh0y0qq80000gn/T/tmpkr2dtr3x/model.ckpt-10000\n"
     ]
    }
   ],
   "source": [
    "predictions = model.predict(pred_input_func)\n",
    "pred_list = list(predictions)"
   ]
  },
  {
   "cell_type": "code",
   "execution_count": 28,
   "metadata": {
    "collapsed": true
   },
   "outputs": [],
   "source": [
    "y_pred = []\n",
    "for p in pred_list:\n",
    "    y_pred.append(p['class_ids'][0])"
   ]
  },
  {
   "cell_type": "markdown",
   "metadata": {},
   "source": [
    "### Confusion Matrix"
   ]
  },
  {
   "cell_type": "code",
   "execution_count": 32,
   "metadata": {
    "collapsed": true
   },
   "outputs": [],
   "source": [
    "from sklearn.metrics import confusion_matrix"
   ]
  },
  {
   "cell_type": "code",
   "execution_count": 40,
   "metadata": {},
   "outputs": [],
   "source": [
    "cm=confusion_matrix(y_test, y_pred)"
   ]
  },
  {
   "cell_type": "code",
   "execution_count": 55,
   "metadata": {},
   "outputs": [],
   "source": [
    "def plot_confusion_matrix(cm, classes,\n",
    "                          normalize=False,\n",
    "                          title='Confusion matrix',\n",
    "                          cmap=plt.cm.Blues):\n",
    "    \"\"\"\n",
    "    This function prints and plots the confusion matrix.\n",
    "    Normalization can be applied by setting `normalize=True`.\n",
    "    \"\"\"\n",
    "    if normalize:\n",
    "        cm = cm.astype('float') / cm.sum(axis=1)[:, np.newaxis]\n",
    "\n",
    "    plt.imshow(cm, interpolation='nearest', cmap=cmap)\n",
    "    plt.title(title)\n",
    "    plt.colorbar()\n",
    "    tick_marks = np.arange(len(classes))\n",
    "    plt.xticks(tick_marks, classes, rotation=45)\n",
    "    plt.yticks(tick_marks, classes)\n",
    "\n",
    "    fmt = '.2f' if normalize else 'd'\n",
    "    thresh = cm.max() / 2.\n",
    "    for i, j in itertools.product(range(cm.shape[0]), range(cm.shape[1])):\n",
    "        plt.text(j, i, format(cm[i, j], fmt),\n",
    "                 horizontalalignment=\"center\",\n",
    "                 color=\"white\" if cm[i, j] > thresh else \"black\")\n",
    "\n",
    "    plt.tight_layout()\n",
    "    plt.ylabel('True label')\n",
    "    plt.xlabel('Predicted label')\n"
   ]
  },
  {
   "cell_type": "code",
   "execution_count": 56,
   "metadata": {},
   "outputs": [
    {
     "data": {
      "image/png": "[encoded data removed]",
      "text/plain": [
       "<matplotlib.figure.Figure at 0x1202bb2b0>"
      ]
     },
     "metadata": {},
     "output_type": "display_data"
    }
   ],
   "source": [
    "plot_confusion_matrix(cm,[\"Loyal\",\"Churned\"],True)"
   ]
  },
  {
   "cell_type": "code",
   "execution_count": 57,
   "metadata": {},
   "outputs": [
    {
     "data": {
      "text/plain": [
       "array([[2300,   78],\n",
       "       [ 352,  270]])"
      ]
     },
     "execution_count": 57,
     "metadata": {},
     "output_type": "execute_result"
    }
   ],
   "source": [
    "cm"
   ]
  },
  {
   "cell_type": "code",
   "execution_count": null,
   "metadata": {
    "collapsed": true
   },
   "outputs": [],
   "source": []
  }
 ],
 "metadata": {
  "kernelspec": {
   "display_name": "Python 3",
   "language": "python",
   "name": "python3"
  },
  "language_info": {
   "codemirror_mode": {
    "name": "ipython",
    "version": 3
   },
   "file_extension": ".py",
   "mimetype": "text/x-python",
   "name": "python",
   "nbconvert_exporter": "python",
   "pygments_lexer": "ipython3",
   "version": "3.5.4"
  }
 },
 "nbformat": 4,
 "nbformat_minor": 2
}
